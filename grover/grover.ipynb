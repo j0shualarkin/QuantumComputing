{
 "cells": [
  {
   "cell_type": "code",
   "execution_count": 3,
   "metadata": {},
   "outputs": [],
   "source": [
    "import numpy as np\n",
    "from qiskit import QuantumCircuit, ClassicalRegister, QuantumRegister, execute, Aer\n",
    "from qiskit.visualization import plot_histogram\n",
    "backend = Aer.get_backend(\"unitary_simulator\")"
   ]
  },
  {
   "cell_type": "markdown",
   "metadata": {},
   "source": [
    "## $Z$ Gate"
   ]
  },
  {
   "cell_type": "markdown",
   "metadata": {},
   "source": [
    "\\begin{equation}\n",
    "Z =\n",
    "\\begin{bmatrix}\n",
    "1 & \\\\\n",
    "  & -1 \n",
    "\\end{bmatrix}\n",
    "\\\\ \\\\\n",
    "HXH = Z\n",
    "\\end{equation}"
   ]
  },
  {
   "cell_type": "code",
   "execution_count": 4,
   "metadata": {},
   "outputs": [
    {
     "data": {
      "text/html": [
       "<pre style=\"word-wrap: normal;white-space: pre;background: #fff0;line-height: 1.1;font-family: &quot;Courier New&quot;,Courier,monospace\">        ┌───┐┌───┐┌───┐\n",
       "q_0: |0>┤ H ├┤ X ├┤ H ├\n",
       "        └───┘└───┘└───┘</pre>"
      ],
      "text/plain": [
       "<qiskit.visualization.text.TextDrawing at 0x7f80c5e80f90>"
      ]
     },
     "execution_count": 4,
     "metadata": {},
     "output_type": "execute_result"
    }
   ],
   "source": [
    "z = QuantumCircuit(1);\n",
    "z.h(0);\n",
    "z.x(0);\n",
    "z.h(0);\n",
    "\n",
    "z.draw('mpl')"
   ]
  },
  {
   "cell_type": "code",
   "execution_count": 5,
   "metadata": {
    "scrolled": true
   },
   "outputs": [
    {
     "name": "stdout",
     "output_type": "stream",
     "text": [
      "[[ 1.-0.j -0.-0.j]\n",
      " [-0.+0.j -1.+0.j]]\n"
     ]
    }
   ],
   "source": [
    "r = execute(z, backend=backend).result()\n",
    "print(r.get_unitary(decimals=1))"
   ]
  },
  {
   "cell_type": "markdown",
   "metadata": {},
   "source": [
    "## $CZ$ Gate"
   ]
  },
  {
   "cell_type": "markdown",
   "metadata": {},
   "source": [
    "\\begin{equation}\n",
    "CZ =\n",
    "\\begin{bmatrix}\n",
    "I &  \\\\\n",
    "  & Z\n",
    "\\end{bmatrix}\n",
    "\\\\ \\\\\n",
    "(I\\otimes H)CX(I \\otimes H) = CZ\n",
    "\\end{equation}"
   ]
  },
  {
   "cell_type": "code",
   "execution_count": 35,
   "metadata": {},
   "outputs": [
    {
     "data": {
      "text/html": [
       "<pre style=\"word-wrap: normal;white-space: pre;background: #fff0;line-height: 1.1;font-family: &quot;Courier New&quot;,Courier,monospace\">        ┌───┐┌───┐┌───┐\n",
       "q_0: |0>┤ H ├┤ X ├┤ H ├\n",
       "        └───┘└─┬─┘└───┘\n",
       "q_1: |0>───────■───────\n",
       "                       </pre>"
      ],
      "text/plain": [
       "<qiskit.visualization.text.TextDrawing at 0x7f80c5531310>"
      ]
     },
     "execution_count": 35,
     "metadata": {},
     "output_type": "execute_result"
    }
   ],
   "source": [
    "cz = QuantumCircuit(2);\n",
    "cz.h(0);\n",
    "cz.cx(1,0);\n",
    "cz.h(0);\n",
    "\n",
    "cz.draw('mpl')"
   ]
  },
  {
   "cell_type": "code",
   "execution_count": 36,
   "metadata": {
    "scrolled": false
   },
   "outputs": [
    {
     "name": "stdout",
     "output_type": "stream",
     "text": [
      "[[ 1.-0.j  0.+0.j  0.+0.j  0.+0.j]\n",
      " [ 0.+0.j  1.-0.j  0.+0.j  0.+0.j]\n",
      " [ 0.+0.j  0.+0.j  1.-0.j -0.-0.j]\n",
      " [ 0.+0.j  0.+0.j -0.+0.j -1.+0.j]]\n"
     ]
    }
   ],
   "source": [
    "r = execute(cz, backend=backend).result()\n",
    "print(r.get_unitary(decimals=1))"
   ]
  },
  {
   "cell_type": "markdown",
   "metadata": {},
   "source": [
    "## $U_{10}$ (first reflection for s = 10 ?)"
   ]
  },
  {
   "cell_type": "markdown",
   "metadata": {},
   "source": [
    "We want to implement: \n",
    "\\begin{equation}\n",
    "U_{10} =\n",
    "\\begin{bmatrix}\n",
    "1 &  &  & \\\\\n",
    "  & 1 & & \\\\\n",
    "  &   & -1 & \\\\\n",
    "  &   &   & 1 \\\\\n",
    "\\end{bmatrix}\n",
    "\\end{equation}\n",
    "\n",
    "\n",
    "\n",
    "Idea: $U_{10} = (I \\otimes X)\\ CZ\\  (I \\otimes X)$\n"
   ]
  },
  {
   "cell_type": "code",
   "execution_count": 37,
   "metadata": {
    "scrolled": true
   },
   "outputs": [
    {
     "data": {
      "text/html": [
       "<pre style=\"word-wrap: normal;white-space: pre;background: #fff0;line-height: 1.1;font-family: &quot;Courier New&quot;,Courier,monospace\">        ┌───┐   ┌───┐\n",
       "q_0: |0>┤ X ├─■─┤ X ├\n",
       "        └───┘ │ └───┘\n",
       "q_1: |0>──────■──────\n",
       "                     </pre>"
      ],
      "text/plain": [
       "<qiskit.visualization.text.TextDrawing at 0x7f80c553afd0>"
      ]
     },
     "execution_count": 37,
     "metadata": {},
     "output_type": "execute_result"
    }
   ],
   "source": [
    "u_10 = QuantumCircuit(2, name=\"U_10\")\n",
    "u_10.x(0);\n",
    "u_10.cz(1,0)\n",
    "u_10.x(0);\n",
    "u_10.draw('mpl')"
   ]
  },
  {
   "cell_type": "markdown",
   "metadata": {},
   "source": [
    "## Verify $U_{10}$ is as expected"
   ]
  },
  {
   "cell_type": "code",
   "execution_count": 38,
   "metadata": {
    "scrolled": false
   },
   "outputs": [
    {
     "name": "stdout",
     "output_type": "stream",
     "text": [
      "[[ 1.+0.j  0.+0.j  0.+0.j  0.+0.j]\n",
      " [ 0.+0.j  1.+0.j  0.+0.j  0.+0.j]\n",
      " [ 0.+0.j  0.+0.j -1.+0.j  0.+0.j]\n",
      " [ 0.+0.j  0.+0.j  0.+0.j  1.+0.j]]\n"
     ]
    }
   ],
   "source": [
    "r = execute(u_10, backend=backend).result()\n",
    "print(r.get_unitary(decimals=1))"
   ]
  },
  {
   "cell_type": "markdown",
   "metadata": {},
   "source": [
    "## $U_S$ (second reflection)\n"
   ]
  },
  {
   "cell_type": "markdown",
   "metadata": {},
   "source": [
    "\\begin{equation}\n",
    "2|00\\rangle\\langle00| - I = \n",
    "\\begin{bmatrix}\n",
    "1 &  &  &  \\\\\n",
    " & -1 &  &  \\\\\n",
    " &  & -1 &  \\\\\n",
    " &  &  & -1 \\\\\n",
    "\\end{bmatrix}\n",
    "\\end{equation}\n",
    "\n",
    "Idea: \n",
    "\\begin{equation}\n",
    "\\cdots = \n",
    "\\begin{bmatrix}\n",
    "Z &  \\\\\n",
    "  & -I  \n",
    "\\end{bmatrix}\n",
    "= \\cdots\n",
    "\\begin{bmatrix}\n",
    " & I \\\\\n",
    "I  &   \n",
    "\\end{bmatrix}\n",
    "\\begin{bmatrix}\n",
    "I &  \\\\\n",
    "  & Z  \n",
    "\\end{bmatrix}\n",
    "\\begin{bmatrix}\n",
    " & I \\\\\n",
    "I  &   \n",
    "\\end{bmatrix}\n",
    "\\end{equation}"
   ]
  },
  {
   "cell_type": "code",
   "execution_count": 50,
   "metadata": {},
   "outputs": [
    {
     "data": {
      "text/html": [
       "<pre style=\"word-wrap: normal;white-space: pre;background: #fff0;line-height: 1.1;font-family: &quot;Courier New&quot;,Courier,monospace\">        ┌───┐        ┌───┐          \n",
       "q_0: |0>┤ H ├──────■─┤ H ├──────────\n",
       "        ├───┤┌───┐ │ ├───┤┌───┐┌───┐\n",
       "q_1: |0>┤ H ├┤ X ├─■─┤ X ├┤ Z ├┤ H ├\n",
       "        └───┘└───┘   └───┘└───┘└───┘</pre>"
      ],
      "text/plain": [
       "<qiskit.visualization.text.TextDrawing at 0x7f80c55dec90>"
      ]
     },
     "execution_count": 50,
     "metadata": {},
     "output_type": "execute_result"
    }
   ],
   "source": [
    "u_s = QuantumCircuit(2,name=\"U_s\")\n",
    "\n",
    "u_s.h(0);\n",
    "u_s.h(1);\n",
    "\n",
    "u_s.x(1);\n",
    "u_s.cz(1,0);\n",
    "u_s.x(1);\n",
    "\n",
    "u_s.z(1);\n",
    "\n",
    "u_s.h(0);\n",
    "u_s.h(1);\n",
    "\n",
    "u_s.draw()"
   ]
  },
  {
   "cell_type": "code",
   "execution_count": 52,
   "metadata": {},
   "outputs": [
    {
     "name": "stdout",
     "output_type": "stream",
     "text": [
      "[[-0.5+0.j  0.5-0.j  0.5-0.j  0.5-0.j]\n",
      " [ 0.5-0.j -0.5+0.j  0.5-0.j  0.5-0.j]\n",
      " [ 0.5-0.j  0.5-0.j -0.5+0.j  0.5-0.j]\n",
      " [ 0.5+0.j  0.5-0.j  0.5-0.j -0.5+0.j]]\n"
     ]
    }
   ],
   "source": [
    "r = execute(u_s, backend=backend).result()\n",
    "print(r.get_unitary(decimals=1))"
   ]
  },
  {
   "cell_type": "markdown",
   "metadata": {},
   "source": [
    "## Grover $n=2$ with $S = \\{10\\}$"
   ]
  },
  {
   "cell_type": "code",
   "execution_count": 58,
   "metadata": {},
   "outputs": [
    {
     "data": {
      "text/html": [
       "<pre style=\"word-wrap: normal;white-space: pre;background: #fff0;line-height: 1.1;font-family: &quot;Courier New&quot;,Courier,monospace\">        ┌───┐┌───────┐┌──────┐┌─┐   \n",
       "q_0: |0>┤ H ├┤0      ├┤0     ├┤M├───\n",
       "        ├───┤│  U_10 ││  U_s │└╥┘┌─┐\n",
       "q_1: |0>┤ H ├┤1      ├┤1     ├─╫─┤M├\n",
       "        └───┘└───────┘└──────┘ ║ └╥┘\n",
       " c_0: 0 ═══════════════════════╩══╬═\n",
       "                                  ║ \n",
       " c_1: 0 ══════════════════════════╩═\n",
       "                                    </pre>"
      ],
      "text/plain": [
       "<qiskit.visualization.text.TextDrawing at 0x7f80c5576290>"
      ]
     },
     "execution_count": 58,
     "metadata": {},
     "output_type": "execute_result"
    }
   ],
   "source": [
    "main = QuantumCircuit(2,2)\n",
    "\n",
    "main.h(0);\n",
    "main.h(1);\n",
    "\n",
    "main.append(u_10.to_instruction(), [0,1]);\n",
    "\n",
    "main.append(u_s.to_instruction(), [0,1]);\n",
    "\n",
    "main.measure([0,1],[0,1]);\n",
    "\n",
    "main.draw('mpl')"
   ]
  },
  {
   "cell_type": "code",
   "execution_count": 59,
   "metadata": {},
   "outputs": [
    {
     "data": {
      "text/plain": [
       "{'10': 1024}"
      ]
     },
     "execution_count": 59,
     "metadata": {},
     "output_type": "execute_result"
    }
   ],
   "source": [
    "r = execute(main, backend=Aer.get_backend(\"qasm_simulator\")).result()\n",
    "r.get_counts()"
   ]
  },
  {
   "cell_type": "code",
   "execution_count": null,
   "metadata": {},
   "outputs": [],
   "source": []
  }
 ],
 "metadata": {
  "kernelspec": {
   "display_name": "Python 3",
   "language": "python",
   "name": "python3"
  },
  "language_info": {
   "codemirror_mode": {
    "name": "ipython",
    "version": 3
   },
   "file_extension": ".py",
   "mimetype": "text/x-python",
   "name": "python",
   "nbconvert_exporter": "python",
   "pygments_lexer": "ipython3",
   "version": "3.7.4"
  }
 },
 "nbformat": 4,
 "nbformat_minor": 2
}
