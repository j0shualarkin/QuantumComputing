{
 "cells": [
  {
   "cell_type": "markdown",
   "metadata": {},
   "source": [
    "---"
   ]
  },
  {
   "cell_type": "markdown",
   "metadata": {},
   "source": [
    "# B490/B629 Quantum Programming Final Exam"
   ]
  },
  {
   "cell_type": "markdown",
   "metadata": {},
   "source": [
    "# Joshua Larkin -- joslarki "
   ]
  },
  {
   "cell_type": "markdown",
   "metadata": {},
   "source": [
    "---"
   ]
  },
  {
   "cell_type": "code",
   "execution_count": 1,
   "metadata": {},
   "outputs": [],
   "source": [
    "import numpy as np\n",
    "from qiskit import QuantumCircuit, ClassicalRegister, QuantumRegister, execute, Aer\n",
    "from qiskit.visualization import plot_histogram\n",
    "\n",
    "qasm = Aer.get_backend(\"qasm_simulator\")\n",
    "unitary = Aer.get_backend(\"unitary_simulator\")"
   ]
  },
  {
   "cell_type": "markdown",
   "metadata": {},
   "source": [
    "---"
   ]
  },
  {
   "cell_type": "markdown",
   "metadata": {},
   "source": [
    "# Part 1: Calculations"
   ]
  },
  {
   "cell_type": "markdown",
   "metadata": {},
   "source": [
    "---"
   ]
  },
  {
   "cell_type": "markdown",
   "metadata": {},
   "source": [
    "## Problem 1\n",
    "\n",
    "Prove the equivalence of the following two circuits:"
   ]
  },
  {
   "cell_type": "code",
   "execution_count": 2,
   "metadata": {},
   "outputs": [
    {
     "data": {
      "text/html": [
       "<pre style=\"word-wrap: normal;white-space: pre;background: #fff0;line-height: 1.1;font-family: &quot;Courier New&quot;,Courier,monospace\">        ┌───┐     \n",
       "q_0: |0>┤ X ├──■──\n",
       "        └───┘┌─┴─┐\n",
       "q_1: |0>─────┤ X ├\n",
       "             └───┘</pre>"
      ],
      "text/plain": [
       "<qiskit.visualization.text.TextDrawing at 0x7f6fc8574dd0>"
      ]
     },
     "execution_count": 2,
     "metadata": {},
     "output_type": "execute_result"
    }
   ],
   "source": [
    "c1 = QuantumCircuit(2); c1.x(0); c1.cx(0,1); c1.draw('mpl')"
   ]
  },
  {
   "cell_type": "code",
   "execution_count": 3,
   "metadata": {},
   "outputs": [
    {
     "data": {
      "text/html": [
       "<pre style=\"word-wrap: normal;white-space: pre;background: #fff0;line-height: 1.1;font-family: &quot;Courier New&quot;,Courier,monospace\">             ┌───┐\n",
       "q_0: |0>──■──┤ X ├\n",
       "        ┌─┴─┐├───┤\n",
       "q_1: |0>┤ X ├┤ X ├\n",
       "        └───┘└───┘</pre>"
      ],
      "text/plain": [
       "<qiskit.visualization.text.TextDrawing at 0x7f70098dfc50>"
      ]
     },
     "execution_count": 3,
     "metadata": {},
     "output_type": "execute_result"
    }
   ],
   "source": [
    "c2 = QuantumCircuit(2); c2.cx(0,1); c2.x(0); c2.x(1); c2.draw('mpl')"
   ]
  },
  {
   "cell_type": "markdown",
   "metadata": {},
   "source": [
    "### Answer:\n",
    "\\begin{align}\n",
    "c1|00\\rangle &= CX_{0,1} \\circ X_{0} |00\\rangle = CX_{0,1} |10\\rangle = |11\\rangle \\\\\n",
    "c1|01\\rangle &= CX_{0,1} \\circ X_{0} |01\\rangle = CX_{0,1} |11\\rangle = |10\\rangle \\\\ \n",
    "c1|10\\rangle &= CX_{0,1} \\circ X_{0} |10\\rangle = CX_{0,1} |00\\rangle = |00\\rangle \\\\\n",
    "c1|11\\rangle &= CX_{0,1} \\circ X_{0} |11\\rangle = CX_{0,1} |01\\rangle = |01\\rangle\n",
    "\\end{align}\n",
    "\n",
    "\\begin{align}\n",
    "c2|00\\rangle \n",
    "&= X_{0} \\circ X_{1} \\circ CX_{0,1} |00\\rangle \n",
    "= X_{0} \\circ X_{1} |00\\rangle \n",
    "= X_{0} |01\\rangle = |11\\rangle \n",
    "\\\\\n",
    "c2|01\\rangle \n",
    "&= X_{0} \\circ X_{1} \\circ CX_{0,1} |01\\rangle \n",
    "= X_{0} \\circ X_{1} |01\\rangle \n",
    "= X_{0} |00\\rangle = |10\\rangle \n",
    "\\\\\n",
    "c2|10\\rangle \n",
    "&= X_{0} \\circ X_{1} \\circ CX_{0,1} |10\\rangle \n",
    "= X_{0} \\circ X_{1} |11\\rangle \n",
    "= X_{0} |10\\rangle = |00\\rangle \n",
    "\\\\\n",
    "c2|11\\rangle \n",
    "&= X_{0} \\circ X_{1} \\circ CX_{0,1} |11\\rangle \n",
    "= X_{0} \\circ X_{1} |10\\rangle \n",
    "= X_{0} |11\\rangle = |01\\rangle \n",
    "\\\\\n",
    "\\end{align}\n",
    "\n",
    "By showing that the two circuits agree on all inputs, we can conclude by extensionality that c1 = c2."
   ]
  },
  {
   "cell_type": "markdown",
   "metadata": {},
   "source": [
    "---"
   ]
  },
  {
   "cell_type": "markdown",
   "metadata": {},
   "source": [
    "## Problem 2\n",
    "\n",
    "Recall that a projector is an operator $P$ such that $P^2=P$ and $P^\\dagger=P$. \n",
    "\n",
    "\\begin{align}\n",
    "P_0 &= |0\\rangle \\langle 0| \\\\\n",
    "P_1 &= |1\\rangle \\langle 1| \\\\\n",
    "P_+ &= |+\\rangle \\langle +| \\\\\n",
    "P_- &= |-\\rangle \\langle -|\n",
    "\\end{align}\n",
    "\n",
    "Which of the following operators are projectors and which are not? Justify your answers."
   ]
  },
  {
   "cell_type": "markdown",
   "metadata": {},
   "source": [
    "### $P_0 + P_1$"
   ]
  },
  {
   "cell_type": "markdown",
   "metadata": {},
   "source": [
    "___Answer___: Yes!\n",
    "\n",
    "Square property:\n",
    "\n",
    "\\begin{align}\n",
    "    (P_0 + P_1)^2 &= (P_0 + P_1)(P_0 + P_1) \\\\\n",
    "    &= (|0\\rangle \\langle 0| + |1\\rangle \\langle 1|)(|0\\rangle \\langle 0| + |1\\rangle \\langle 1|) \\\\\n",
    "    &= (|0\\rangle \\langle 0|)(|0\\rangle \\langle 0|) \n",
    "       + (|0\\rangle \\langle 0|)(|1\\rangle \\langle 1|) \n",
    "       + (|1\\rangle \\langle 1|)(|0\\rangle \\langle 0|)\n",
    "       + (|1\\rangle \\langle 1|)(|1\\rangle \\langle 1|) \\\\\n",
    "    &= (|0\\rangle \\langle 0|) + (|1\\rangle \\langle 1|) & \\texttt{$|0\\rangle$ and $|1\\rangle$ orthogonal}\\\\\n",
    "    &= P_0 + P_1\n",
    "\\end{align}\n",
    "\n",
    "Dagger property:\n",
    "\n",
    "\\begin{align}\n",
    "    \\langle x | (P_0 + P_1)y \\rangle \n",
    "    &= \\langle x | (|0\\rangle \\langle 0| + |1\\rangle \\langle 1|)y \\rangle \\\\\n",
    "    &= \\langle x | 0 \\rangle\\langle 0 | y \\rangle + \\langle x | 1 \\rangle\\langle 1 | y \\rangle \\\\\n",
    "    \\langle (P_0 + P_1)x | y \\rangle &= \\langle  (|0\\rangle \\langle 0| + |1\\rangle \\langle 1|)x | y \\rangle \\\\\n",
    "    &= \\langle x | 0 \\rangle\\langle 0 | y \\rangle + \\langle x | 1 \\rangle\\langle 1 | y \\rangle \\\\\n",
    "\\end{align}"
   ]
  },
  {
   "cell_type": "markdown",
   "metadata": {},
   "source": [
    "### $P_0 + P_+$"
   ]
  },
  {
   "cell_type": "markdown",
   "metadata": {},
   "source": [
    "___Answer___: No! The projector squared is not equal to itself. \n",
    "\n",
    "\\begin{align}\n",
    "(P_0 + P_+)^2 &= (P_0 + P_+)(P_0 + P_+) \\\\\n",
    "&= P_0P_0 + P_0P_+ + P_+P_0 + P+P+ \\\\ \n",
    "&= P_0 + P_0P_+ + P_+P_0 + P+ \n",
    "\\end{align}"
   ]
  },
  {
   "cell_type": "markdown",
   "metadata": {},
   "source": [
    "### $P_+ + P_-$"
   ]
  },
  {
   "cell_type": "markdown",
   "metadata": {},
   "source": [
    "___Answer___: Yes!\n",
    "\n",
    "\\begin{align}\n",
    "(P_+ + P_-)^2 \n",
    "&= (P_+ + P_-)^2 \\\\\n",
    "&= (P_+ + P_-)(P_+ + P_-) \\\\\n",
    "&= P_+P_+ + P_+P_- + P_-P_+ + P_-P_- \\\\\n",
    "&= P_+ + (|+\\rangle \\langle +|)(|-\\rangle \\langle -|) + (|-\\rangle \\langle -|)(|+\\rangle \\langle +|) + P_- \\\\\n",
    "&= P_+ + P_- & \\texttt{$|+\\rangle$ and $|-\\rangle$ orthogonal}\n",
    "\\end{align}\n",
    "\n",
    "Dagger property: \n",
    "\n",
    "\\begin{align}\n",
    "    \\langle x | (P_+ + P_-)y \\rangle \n",
    "    &= \\langle x | P_+ y \\rangle + \\langle x | P_- y \\rangle \\\\\n",
    "    &= \\langle P_+ x |  y \\rangle + \\langle P_- x |  y \\rangle \\\\  \n",
    "    \\\\\n",
    "    \\langle (P_0 + P_1)x | y \\rangle \n",
    "    &= \\langle P_+ x |  y \\rangle + \\langle P_- x |  y \\rangle \\\\  \n",
    "\\end{align}"
   ]
  },
  {
   "cell_type": "markdown",
   "metadata": {},
   "source": [
    "### $P_+ - P_-$"
   ]
  },
  {
   "cell_type": "markdown",
   "metadata": {},
   "source": [
    "___Answer___: No! The property of $P^2 = P$ does not hold.\n",
    "\n",
    "\\begin{align}\n",
    "(P_+ - P_-)^2 \n",
    "&= (P_+ - P_-)(P_+ - P_-) \\\\\n",
    "&= P_+ - (|+\\rangle \\langle +||-\\rangle \\langle -|) - (|-\\rangle \\langle -||+\\rangle \\langle +|) + P_- \\\\\n",
    "&= P_+ + P_-\n",
    "\\end{align}"
   ]
  },
  {
   "cell_type": "markdown",
   "metadata": {},
   "source": [
    "### $P_0 P_1$"
   ]
  },
  {
   "cell_type": "markdown",
   "metadata": {},
   "source": [
    "___Answer___: No. Since $|0\\rangle$ and $|1\\rangle$ are orthogonal, $\\langle 0 | 1 \\rangle = 0$. This means the squared property does not hold.\n",
    "\n",
    "\\begin{align}\n",
    "(P_0P_1)^2 \n",
    "&= (P_0P_1)(P_0P_1) \\\\\n",
    "&= (|0\\rangle \\langle 0||1\\rangle \\langle 1|)(|0\\rangle \\langle 0||1\\rangle \\langle 1|) \\\\\n",
    "&= (|0\\rangle \\langle 0|1\\rangle \\langle 1|)(|0\\rangle \\langle 0|1\\rangle \\langle 1|) \\\\\n",
    "&= 0\n",
    "\\end{align}"
   ]
  },
  {
   "cell_type": "markdown",
   "metadata": {},
   "source": [
    "### $P_+ P_-$"
   ]
  },
  {
   "cell_type": "markdown",
   "metadata": {},
   "source": [
    "___Answer___: No, the square property does not hold. The main fact for this is that $|+\\rangle$ and $|-\\rangle$ are orthogonal.\n",
    "\n",
    "\\begin{align}\n",
    "(P_+P_-)^2 \n",
    "&= (P_+P_-)(P_+P_-) \\\\\n",
    "&= (|+\\rangle \\langle +||-\\rangle \\langle -|)(|+\\rangle \\langle +||-\\rangle \\langle -|) \\\\\n",
    "&= 0\n",
    "\\end{align}"
   ]
  },
  {
   "cell_type": "markdown",
   "metadata": {},
   "source": [
    "### $P_0 P_+$"
   ]
  },
  {
   "cell_type": "markdown",
   "metadata": {},
   "source": [
    "___Answer___: No! The square property does not hold:\n",
    "\n",
    "\\begin{align}\n",
    "(P_0P_+)^2 \n",
    "&= (P_0P_+)(P_0P_+) \\\\\n",
    "&= (|0\\rangle \\langle 0||+\\rangle \\langle +|)(|0\\rangle \\langle 0||+\\rangle \\langle +|) \\\\\n",
    "&= |0\\rangle \\langle 0 | +\\rangle \\langle +|0\\rangle \\langle 0|+\\rangle \\langle +| \\\\\n",
    "\\end{align}"
   ]
  },
  {
   "cell_type": "markdown",
   "metadata": {},
   "source": [
    "### $P_+ P_+$"
   ]
  },
  {
   "cell_type": "markdown",
   "metadata": {},
   "source": [
    "___Answer___: Yes!\n",
    "\n",
    "Square property:\n",
    "\n",
    "\\begin{align}\n",
    " (P_+P_+)^2 \n",
    " &= (P_+P_+)(P_+P_+) \\\\\n",
    " &= ((|+\\rangle \\langle +|)(|+\\rangle \\langle +|))((|+\\rangle \\langle +|)(|+\\rangle \\langle +|))\\\\\n",
    " &= (|+\\rangle\\langle +|)(|+\\rangle\\langle +|) \\\\\n",
    " &= P_+P_+\n",
    "\\end{align}\n",
    "\n",
    "Dagger property:\n",
    "\n",
    "\\begin{align}\n",
    "    \\langle x | (P_+P_+)y \\rangle \n",
    "    &= \\langle P_+ x | P_+ y \\rangle \\\\\n",
    "    &= \\langle (P_+P_+) x | y \\rangle \\\\\n",
    "\\end{align}"
   ]
  },
  {
   "cell_type": "markdown",
   "metadata": {},
   "source": [
    "---"
   ]
  },
  {
   "cell_type": "markdown",
   "metadata": {},
   "source": [
    "# Part 2: Implement Grover's Algorithm"
   ]
  },
  {
   "cell_type": "markdown",
   "metadata": {},
   "source": [
    "---"
   ]
  },
  {
   "cell_type": "markdown",
   "metadata": {},
   "source": [
    "The problems in this part assume that you have \"attended\" week 15 lecture on Grover's algorithm. Watch the lecture video if you have not. Feel free to ask questions on Piazza."
   ]
  },
  {
   "cell_type": "markdown",
   "metadata": {},
   "source": [
    "---"
   ]
  },
  {
   "cell_type": "markdown",
   "metadata": {},
   "source": [
    "## Problem 1\n",
    "\n",
    "Implement reflection around $|000\\rangle$. We'll call it $R_{000}$. Check your solution by executing the circuit with the unitary simulator."
   ]
  },
  {
   "cell_type": "markdown",
   "metadata": {},
   "source": [
    "We want to implement the matrix for $2|000\\rangle \\langle000| - I$:\n",
    "\n",
    "\n",
    "\\begin{equation}\n",
    "\\begin{bmatrix}\n",
    "1 & & & & & & & \\\\\n",
    "   & -1 & & & & & & \\\\\n",
    "   & & -1 & & & &  & \\\\\n",
    "   & & & -1  & & &  & \\\\\n",
    "   & & &  & -1  & & & \\\\\n",
    "   & & &  &  & -1  &  & \\\\\n",
    "   & & &  &  & & -1 &  \\\\\n",
    "   & & &  &  & & & -1  \\\\\n",
    "\\end{bmatrix}\n",
    "\\end{equation}"
   ]
  },
  {
   "cell_type": "markdown",
   "metadata": {},
   "source": [
    "This is basically:\n",
    "\n",
    "\\begin{bmatrix}\n",
    "Z &  & & \\\\\n",
    "      & -I & & \\\\\n",
    "      & & -I & \\\\\n",
    "      & & & -I \\\\\n",
    "\\end{bmatrix}"
   ]
  },
  {
   "cell_type": "markdown",
   "metadata": {},
   "source": [
    "### Solution:"
   ]
  },
  {
   "cell_type": "code",
   "execution_count": 4,
   "metadata": {},
   "outputs": [
    {
     "data": {
      "text/html": [
       "<pre style=\"word-wrap: normal;white-space: pre;background: #fff0;line-height: 1.1;font-family: &quot;Courier New&quot;,Courier,monospace\">                                         \n",
       "q_0: |0>────────────■────────────────────\n",
       "        ┌───┐       │  ┌───┐┌───┐        \n",
       "q_1: |0>┤ X ├───────■──┤ X ├┤ Z ├──────■─\n",
       "        ├───┤┌───┐┌─┴─┐├───┤├───┤┌───┐ │ \n",
       "q_2: |0>┤ X ├┤ H ├┤ X ├┤ H ├┤ X ├┤ Z ├─■─\n",
       "        └───┘└───┘└───┘└───┘└───┘└───┘   </pre>"
      ],
      "text/plain": [
       "<qiskit.visualization.text.TextDrawing at 0x7f700be5b890>"
      ]
     },
     "execution_count": 4,
     "metadata": {},
     "output_type": "execute_result"
    }
   ],
   "source": [
    "r_000 = QuantumCircuit(3, name=\"R_000\")\n",
    "\n",
    "r_000.x(1);\n",
    "r_000.x(2);\n",
    "\n",
    "r_000.h(2);\n",
    "r_000.ccx(0,1,2);\n",
    "r_000.h(2);\n",
    "\n",
    "r_000.x(1);\n",
    "r_000.x(2);\n",
    "\n",
    "r_000.z(1);\n",
    "r_000.z(2);\n",
    "r_000.cz(1,2);\n",
    "\n",
    "\n",
    "r_000.draw('mpl')"
   ]
  },
  {
   "cell_type": "code",
   "execution_count": 5,
   "metadata": {},
   "outputs": [
    {
     "name": "stdout",
     "output_type": "stream",
     "text": [
      "[[ 1.-0.j  0.+0.j  0.+0.j  0.+0.j  0.+0.j  0.+0.j  0.+0.j  0.+0.j]\n",
      " [ 0.+0.j -1.+0.j  0.+0.j  0.+0.j  0.+0.j -0.+0.j  0.+0.j  0.+0.j]\n",
      " [ 0.+0.j  0.+0.j -1.+0.j  0.+0.j  0.+0.j  0.+0.j  0.-0.j  0.+0.j]\n",
      " [ 0.+0.j  0.+0.j  0.+0.j -1.+0.j  0.+0.j  0.+0.j  0.+0.j  0.-0.j]\n",
      " [-0.-0.j  0.+0.j  0.+0.j  0.+0.j -1.+0.j  0.+0.j  0.+0.j  0.+0.j]\n",
      " [ 0.+0.j  0.+0.j  0.+0.j  0.+0.j  0.+0.j -1.+0.j  0.+0.j  0.+0.j]\n",
      " [ 0.+0.j  0.+0.j -0.-0.j  0.+0.j  0.+0.j  0.+0.j -1.+0.j  0.+0.j]\n",
      " [ 0.+0.j  0.+0.j  0.+0.j -0.-0.j  0.+0.j  0.+0.j  0.+0.j -1.+0.j]]\n"
     ]
    }
   ],
   "source": [
    "r = execute(r_000, backend=unitary).result()\n",
    "print(r.get_unitary(decimals=1))"
   ]
  },
  {
   "cell_type": "markdown",
   "metadata": {},
   "source": [
    "---"
   ]
  },
  {
   "cell_type": "markdown",
   "metadata": {},
   "source": [
    "## Problem 2\n",
    "\n",
    "Let $|s\\rangle = |\\!+\\!++\\rangle$. Using your solution to Problem 1, $R_{000}$, implement reflection around $|s\\rangle$. We'll refer to it by $U_s$. "
   ]
  },
  {
   "cell_type": "markdown",
   "metadata": {},
   "source": [
    "### Solution:"
   ]
  },
  {
   "cell_type": "code",
   "execution_count": 6,
   "metadata": {},
   "outputs": [
    {
     "data": {
      "text/html": [
       "<pre style=\"word-wrap: normal;white-space: pre;background: #fff0;line-height: 1.1;font-family: &quot;Courier New&quot;,Courier,monospace\">        ┌───┐┌────────┐┌───┐\n",
       "q_0: |0>┤ H ├┤0       ├┤ H ├\n",
       "        ├───┤│        │├───┤\n",
       "q_1: |0>┤ H ├┤1 R_000 ├┤ H ├\n",
       "        ├───┤│        │├───┤\n",
       "q_2: |0>┤ H ├┤2       ├┤ H ├\n",
       "        └───┘└────────┘└───┘</pre>"
      ],
      "text/plain": [
       "<qiskit.visualization.text.TextDrawing at 0x7f7001f80ed0>"
      ]
     },
     "execution_count": 6,
     "metadata": {},
     "output_type": "execute_result"
    }
   ],
   "source": [
    "u_s = QuantumCircuit(3, name=\"U_s\")\n",
    "\n",
    "u_s.h(0);\n",
    "u_s.h(1);\n",
    "u_s.h(2);\n",
    "\n",
    "u_s.append(r_000.to_instruction(), [0,1,2]);\n",
    "\n",
    "u_s.h(0);\n",
    "u_s.h(1);\n",
    "u_s.h(2);\n",
    "\n",
    "u_s.draw('mpl')"
   ]
  },
  {
   "cell_type": "code",
   "execution_count": 7,
   "metadata": {},
   "outputs": [
    {
     "name": "stdout",
     "output_type": "stream",
     "text": [
      "[[-0.7+0.j  0.3-0.j  0.3-0.j  0.2-0.j  0.3-0.j  0.2-0.j  0.3-0.j  0.2-0.j]\n",
      " [ 0.3-0.j -0.8+0.j  0.3-0.j  0.2-0.j  0.2-0.j  0.3-0.j  0.2-0.j  0.2-0.j]\n",
      " [ 0.3-0.j  0.3-0.j -0.8+0.j  0.2-0.j  0.3-0.j  0.2-0.j  0.2-0.j  0.2-0.j]\n",
      " [ 0.3-0.j  0.2-0.j  0.2-0.j -0.8+0.j  0.2-0.j  0.2-0.j  0.2-0.j  0.2-0.j]\n",
      " [ 0.3-0.j  0.3-0.j  0.2-0.j  0.3-0.j -0.8+0.j  0.2-0.j  0.2-0.j  0.2-0.j]\n",
      " [ 0.3-0.j  0.2-0.j  0.2-0.j  0.2-0.j  0.2-0.j -0.8+0.j  0.2-0.j  0.2-0.j]\n",
      " [ 0.3-0.j  0.2-0.j  0.2-0.j  0.2-0.j  0.2-0.j  0.2-0.j -0.8+0.j  0.2-0.j]\n",
      " [ 0.2-0.j  0.2-0.j  0.2-0.j  0.2-0.j  0.2-0.j  0.2-0.j  0.2-0.j -0.8+0.j]]\n"
     ]
    }
   ],
   "source": [
    "r = execute(u_s, backend=unitary).result()\n",
    "print(r.get_unitary(decimals=1))"
   ]
  },
  {
   "cell_type": "markdown",
   "metadata": {},
   "source": [
    "---"
   ]
  },
  {
   "cell_type": "markdown",
   "metadata": {},
   "source": [
    "## Problem 3\n",
    "\n",
    "Implement a Grover oracle for $n=3$ and $S = \\{101\\}$. We'll refer to it by $U_{101}$. Check your solution by executing the circuit with the unitary simulator."
   ]
  },
  {
   "cell_type": "markdown",
   "metadata": {},
   "source": [
    "We want to implement the matrix for $U_{101}$:\n",
    "\n",
    "\n",
    "\\begin{equation}\n",
    "\\begin{bmatrix}\n",
    "1 & & & & & & & \\\\\n",
    "   & 1 & & & & & & \\\\\n",
    "   & & 1 & & & &  & \\\\\n",
    "   & & & 1  & & &  & \\\\\n",
    "   & & &  & 1  & & & \\\\\n",
    "   & & &  &  & -1  &  & \\\\\n",
    "   & & &  &  & & 1 &  \\\\\n",
    "   & & &  &  & & & 1  \\\\\n",
    "\\end{bmatrix}\n",
    "=\n",
    "\\begin{bmatrix}\n",
    "I & & & \\\\\n",
    " & I & & \\\\\n",
    " & & Z & \\\\\n",
    " & & & I \n",
    "\\end{bmatrix}\n",
    "\\end{equation}"
   ]
  },
  {
   "cell_type": "markdown",
   "metadata": {},
   "source": [
    "### Solution:"
   ]
  },
  {
   "cell_type": "code",
   "execution_count": 8,
   "metadata": {},
   "outputs": [
    {
     "data": {
      "text/html": [
       "<pre style=\"word-wrap: normal;white-space: pre;background: #fff0;line-height: 1.1;font-family: &quot;Courier New&quot;,Courier,monospace\">                          ┌───┐\n",
       "q_0: |0>───────■────────■─┤ Z ├\n",
       "        ┌───┐┌─┴─┐┌───┐ │ └───┘\n",
       "q_1: |0>┤ H ├┤ X ├┤ H ├─┼──────\n",
       "        └───┘└─┬─┘├───┤ │ ┌───┐\n",
       "q_2: |0>───────■──┤ X ├─■─┤ X ├\n",
       "                  └───┘   └───┘</pre>"
      ],
      "text/plain": [
       "<qiskit.visualization.text.TextDrawing at 0x7f70098725d0>"
      ]
     },
     "execution_count": 8,
     "metadata": {},
     "output_type": "execute_result"
    }
   ],
   "source": [
    "u_101 = QuantumCircuit(3, name=\"U_101\")\n",
    "\n",
    "u_101.h(1);\n",
    "u_101.ccx(0,2,1);\n",
    "u_101.h(1);\n",
    "\n",
    "u_101.x(2);\n",
    "u_101.cz(2,0);\n",
    "u_101.x(2);\n",
    "\n",
    "u_101.z(0);\n",
    "\n",
    "u_101.draw('mpl')"
   ]
  },
  {
   "cell_type": "code",
   "execution_count": 9,
   "metadata": {},
   "outputs": [
    {
     "name": "stdout",
     "output_type": "stream",
     "text": [
      "[[ 1.-0.j  0.+0.j  0.+0.j  0.+0.j  0.+0.j  0.+0.j  0.+0.j  0.+0.j]\n",
      " [ 0.+0.j  1.-0.j  0.+0.j  0.+0.j  0.+0.j  0.+0.j  0.+0.j  0.+0.j]\n",
      " [ 0.+0.j  0.+0.j  1.-0.j  0.+0.j  0.+0.j  0.+0.j  0.+0.j  0.+0.j]\n",
      " [ 0.+0.j  0.+0.j  0.+0.j  1.-0.j  0.+0.j  0.+0.j  0.+0.j  0.+0.j]\n",
      " [ 0.+0.j  0.+0.j  0.+0.j  0.+0.j  1.-0.j  0.+0.j  0.+0.j  0.+0.j]\n",
      " [ 0.+0.j  0.+0.j  0.+0.j  0.+0.j  0.+0.j -1.+0.j  0.+0.j  0.+0.j]\n",
      " [ 0.+0.j  0.+0.j  0.+0.j  0.+0.j  0.+0.j  0.+0.j  1.-0.j  0.+0.j]\n",
      " [ 0.+0.j  0.+0.j  0.+0.j  0.+0.j  0.+0.j  0.-0.j  0.+0.j  1.-0.j]]\n"
     ]
    }
   ],
   "source": [
    "r = execute(u_101, backend=unitary).result()\n",
    "print(r.get_unitary(decimals=1))"
   ]
  },
  {
   "cell_type": "markdown",
   "metadata": {},
   "source": [
    "---"
   ]
  },
  {
   "cell_type": "markdown",
   "metadata": {},
   "source": [
    "## Problem 4\n",
    "\n",
    "Using your solutions to Problems 2 and 3, implement Grover's algorithm for $n=3$ and $S = \\{101\\}$. Execute your circuit using the qasm simulator and observe the experimental results.\n",
    "\n",
    "How many rotations are required to achieve probability of success greater than .9? What happens when you increase the number of rotations beyond this? _For extra credit, explain why_."
   ]
  },
  {
   "cell_type": "markdown",
   "metadata": {},
   "source": [
    "You need to do the rotation twice to get probability $> 0.9$. If you rotate again, the probability drops down to around $0.32$, rotate a fourth time and it goes to $0.009$, so the probability of success decreases dramatically. Rotating a fifth time brings the success for 101 back to about 0.55. \n",
    "This happens because rotating can overshoot the hit vector so to speak. By reflecting more and more we build up a larger alpha value everytime (doubles), and a reflection about s can land far from the hit vector because of a large angle (close proximity to the hit vector before the rotation). "
   ]
  },
  {
   "cell_type": "markdown",
   "metadata": {},
   "source": [
    "### Solution:"
   ]
  },
  {
   "cell_type": "code",
   "execution_count": 1,
   "metadata": {},
   "outputs": [
    {
     "ename": "NameError",
     "evalue": "name 'QuantumCircuit' is not defined",
     "output_type": "error",
     "traceback": [
      "\u001b[0;31m---------------------------------------------------------------------------\u001b[0m",
      "\u001b[0;31mNameError\u001b[0m                                 Traceback (most recent call last)",
      "\u001b[0;32m<ipython-input-1-c77e1251ee8c>\u001b[0m in \u001b[0;36m<module>\u001b[0;34m\u001b[0m\n\u001b[0;32m----> 1\u001b[0;31m \u001b[0mg_101\u001b[0m \u001b[0;34m=\u001b[0m \u001b[0mQuantumCircuit\u001b[0m\u001b[0;34m(\u001b[0m\u001b[0;36m3\u001b[0m\u001b[0;34m,\u001b[0m\u001b[0;36m3\u001b[0m\u001b[0;34m)\u001b[0m\u001b[0;34m\u001b[0m\u001b[0;34m\u001b[0m\u001b[0m\n\u001b[0m\u001b[1;32m      2\u001b[0m \u001b[0;34m\u001b[0m\u001b[0m\n\u001b[1;32m      3\u001b[0m \u001b[0mg_101\u001b[0m\u001b[0;34m.\u001b[0m\u001b[0mh\u001b[0m\u001b[0;34m(\u001b[0m\u001b[0;36m0\u001b[0m\u001b[0;34m)\u001b[0m\u001b[0;34m;\u001b[0m\u001b[0;34m\u001b[0m\u001b[0;34m\u001b[0m\u001b[0m\n\u001b[1;32m      4\u001b[0m \u001b[0mg_101\u001b[0m\u001b[0;34m.\u001b[0m\u001b[0mh\u001b[0m\u001b[0;34m(\u001b[0m\u001b[0;36m1\u001b[0m\u001b[0;34m)\u001b[0m\u001b[0;34m;\u001b[0m\u001b[0;34m\u001b[0m\u001b[0;34m\u001b[0m\u001b[0m\n\u001b[1;32m      5\u001b[0m \u001b[0mg_101\u001b[0m\u001b[0;34m.\u001b[0m\u001b[0mh\u001b[0m\u001b[0;34m(\u001b[0m\u001b[0;36m2\u001b[0m\u001b[0;34m)\u001b[0m\u001b[0;34m;\u001b[0m\u001b[0;34m\u001b[0m\u001b[0;34m\u001b[0m\u001b[0m\n",
      "\u001b[0;31mNameError\u001b[0m: name 'QuantumCircuit' is not defined"
     ]
    }
   ],
   "source": [
    "g_101 = QuantumCircuit(3,3)\n",
    "\n",
    "g_101.h(0);\n",
    "g_101.h(1);\n",
    "g_101.h(2);\n",
    "\n",
    "# rotate via reflections\n",
    "g_101.append(u_101.to_instruction(),[0,1,2]);\n",
    "\n",
    "g_101.append(u_s.to_instruction(),[0,1,2]);\n",
    "\n",
    "# rotate, again\n",
    "g_101.append(u_101.to_instruction(),[0,1,2]);\n",
    "\n",
    "g_101.append(u_s.to_instruction(),[0,1,2]);\n",
    "\n",
    "## measure\n",
    "g_101.measure([0,1,2],[0,1,2])\n",
    "\n",
    "g_101.draw('mpl')"
   ]
  },
  {
   "cell_type": "code",
   "execution_count": 2,
   "metadata": {},
   "outputs": [
    {
     "ename": "NameError",
     "evalue": "name 'execute' is not defined",
     "output_type": "error",
     "traceback": [
      "\u001b[0;31m---------------------------------------------------------------------------\u001b[0m",
      "\u001b[0;31mNameError\u001b[0m                                 Traceback (most recent call last)",
      "\u001b[0;32m<ipython-input-2-053f27ccd031>\u001b[0m in \u001b[0;36m<module>\u001b[0;34m\u001b[0m\n\u001b[0;32m----> 1\u001b[0;31m \u001b[0mr\u001b[0m \u001b[0;34m=\u001b[0m \u001b[0mexecute\u001b[0m\u001b[0;34m(\u001b[0m\u001b[0mg_101\u001b[0m\u001b[0;34m,\u001b[0m \u001b[0mbackend\u001b[0m\u001b[0;34m=\u001b[0m\u001b[0mqasm\u001b[0m\u001b[0;34m)\u001b[0m\u001b[0;34m.\u001b[0m\u001b[0mresult\u001b[0m\u001b[0;34m(\u001b[0m\u001b[0;34m)\u001b[0m\u001b[0;34m\u001b[0m\u001b[0;34m\u001b[0m\u001b[0m\n\u001b[0m\u001b[1;32m      2\u001b[0m \u001b[0mplot_histogram\u001b[0m\u001b[0;34m(\u001b[0m\u001b[0mr\u001b[0m\u001b[0;34m.\u001b[0m\u001b[0mget_counts\u001b[0m\u001b[0;34m(\u001b[0m\u001b[0;34m)\u001b[0m\u001b[0;34m)\u001b[0m\u001b[0;34m\u001b[0m\u001b[0;34m\u001b[0m\u001b[0m\n",
      "\u001b[0;31mNameError\u001b[0m: name 'execute' is not defined"
     ]
    }
   ],
   "source": [
    "r = execute(g_101, backend=qasm).result()\n",
    "plot_histogram(r.get_counts())"
   ]
  },
  {
   "cell_type": "markdown",
   "metadata": {},
   "source": [
    "---"
   ]
  },
  {
   "cell_type": "markdown",
   "metadata": {},
   "source": [
    "## Problem 5\n",
    "\n",
    "Implement a Grover oracle for $n=3$ and $S = \\{001, 111\\}$. We'll refer to it by $U_{001,111}$"
   ]
  },
  {
   "cell_type": "markdown",
   "metadata": {},
   "source": [
    "We want to implement the matrix for $U_{101}$:\n",
    "\n",
    "\n",
    "\\begin{equation}\n",
    "\\begin{bmatrix}\n",
    "1 & & & & & & & \\\\\n",
    "   & -1 & & & & & & \\\\\n",
    "   & & 1 & & & &  & \\\\\n",
    "   & & & 1  & & &  & \\\\\n",
    "   & & &  & 1  & & & \\\\\n",
    "   & & &  &  & 1  &  & \\\\\n",
    "   & & &  &  & & 1 &  \\\\\n",
    "   & & &  &  & & & -1  \\\\\n",
    "\\end{bmatrix}\n",
    "=\n",
    "\\begin{bmatrix}\n",
    "Z & & & \\\\\n",
    " & I & & \\\\\n",
    " & & I & \\\\\n",
    " & & & Z \n",
    "\\end{bmatrix}\n",
    "\\end{equation}"
   ]
  },
  {
   "cell_type": "markdown",
   "metadata": {},
   "source": [
    "### Solution:"
   ]
  },
  {
   "cell_type": "code",
   "execution_count": 18,
   "metadata": {},
   "outputs": [
    {
     "data": {
      "text/html": [
       "<pre style=\"word-wrap: normal;white-space: pre;background: #fff0;line-height: 1.1;font-family: &quot;Courier New&quot;,Courier,monospace\">        ┌───┐      \n",
       "q_0: |0>┤ Z ├─■──■─\n",
       "        └───┘ │  │ \n",
       "q_1: |0>──────┼──■─\n",
       "              │    \n",
       "q_2: |0>──────■────\n",
       "                   </pre>"
      ],
      "text/plain": [
       "<qiskit.visualization.text.TextDrawing at 0x7f6fc7ac30d0>"
      ]
     },
     "execution_count": 18,
     "metadata": {},
     "output_type": "execute_result"
    }
   ],
   "source": [
    "u_001_111 = QuantumCircuit(3, name=\"U_001,111\")\n",
    "\n",
    "u_001_111.z(0);\n",
    "u_001_111.cz(2,0);\n",
    "u_001_111.cz(1,0);\n",
    "\n",
    "u_001_111.draw('mpl')"
   ]
  },
  {
   "cell_type": "code",
   "execution_count": 19,
   "metadata": {},
   "outputs": [
    {
     "name": "stdout",
     "output_type": "stream",
     "text": [
      "[[ 1.+0.j  0.+0.j  0.+0.j  0.+0.j  0.+0.j  0.+0.j  0.+0.j  0.+0.j]\n",
      " [ 0.+0.j -1.+0.j  0.+0.j  0.+0.j  0.+0.j  0.+0.j  0.+0.j  0.+0.j]\n",
      " [ 0.+0.j  0.+0.j  1.+0.j  0.+0.j  0.+0.j  0.+0.j  0.+0.j  0.+0.j]\n",
      " [ 0.+0.j  0.+0.j  0.+0.j  1.+0.j  0.+0.j  0.+0.j  0.+0.j  0.+0.j]\n",
      " [ 0.+0.j  0.+0.j  0.+0.j  0.+0.j  1.+0.j  0.+0.j  0.+0.j  0.+0.j]\n",
      " [ 0.+0.j  0.+0.j  0.+0.j  0.+0.j  0.+0.j  1.+0.j  0.+0.j  0.+0.j]\n",
      " [ 0.+0.j  0.+0.j  0.+0.j  0.+0.j  0.+0.j  0.+0.j  1.+0.j  0.+0.j]\n",
      " [ 0.+0.j  0.+0.j  0.+0.j  0.+0.j  0.+0.j  0.+0.j  0.+0.j -1.+0.j]]\n"
     ]
    }
   ],
   "source": [
    "r = execute(u_001_111, backend=unitary).result()\n",
    "print(r.get_unitary(decimals=1))"
   ]
  },
  {
   "cell_type": "markdown",
   "metadata": {},
   "source": [
    "---"
   ]
  },
  {
   "cell_type": "markdown",
   "metadata": {},
   "source": [
    "## Problem 6\n",
    "\n",
    "Using your solutions to Problems 2 and 5, implement Grover's algorithm for $n=3$ and $S = \\{001,111\\}$. Execute your circuit using the qasm simulator and observe the experimental results. What happens when you rotate more than once?"
   ]
  },
  {
   "cell_type": "markdown",
   "metadata": {},
   "source": [
    "When you rotate twice or three times, the probabilities are distributed evenly. But a fourth time, the probabilities of success go back to being split between $001$ and $111$. More rotations show distributed results, until the 10th rotation, when things go back to the successful case (e.g. there is some pattern like 1 rotation, 4 rotations, 10 rotations -- all give success). I think this is because we rotate enough to sort of \"loop\" back around to where we started."
   ]
  },
  {
   "cell_type": "markdown",
   "metadata": {},
   "source": [
    "### Solution:"
   ]
  },
  {
   "cell_type": "code",
   "execution_count": 20,
   "metadata": {},
   "outputs": [
    {
     "data": {
      "text/html": [
       "<pre style=\"word-wrap: normal;white-space: pre;background: #fff0;line-height: 1.1;font-family: &quot;Courier New&quot;,Courier,monospace\">        ┌───┐┌────────────┐┌──────┐┌─┐      \n",
       "q_0: |0>┤ H ├┤0           ├┤0     ├┤M├──────\n",
       "        ├───┤│            ││      │└╥┘┌─┐   \n",
       "q_1: |0>┤ H ├┤1 U_001,111 ├┤1 U_s ├─╫─┤M├───\n",
       "        ├───┤│            ││      │ ║ └╥┘┌─┐\n",
       "q_2: |0>┤ H ├┤2           ├┤2     ├─╫──╫─┤M├\n",
       "        └───┘└────────────┘└──────┘ ║  ║ └╥┘\n",
       " c_0: 0 ════════════════════════════╩══╬══╬═\n",
       "                                       ║  ║ \n",
       " c_1: 0 ═══════════════════════════════╩══╬═\n",
       "                                          ║ \n",
       " c_2: 0 ══════════════════════════════════╩═\n",
       "                                            </pre>"
      ],
      "text/plain": [
       "<qiskit.visualization.text.TextDrawing at 0x7f6fc796ca90>"
      ]
     },
     "execution_count": 20,
     "metadata": {},
     "output_type": "execute_result"
    }
   ],
   "source": [
    "g_001_111 = QuantumCircuit(3,3)\n",
    "\n",
    "\n",
    "g_001_111.h(0);\n",
    "g_001_111.h(1);\n",
    "g_001_111.h(2);\n",
    "\n",
    "# rotation 1\n",
    "g_001_111.append(u_001_111.to_instruction(),[0,1,2]);\n",
    "\n",
    "g_001_111.append(u_s.to_instruction(),[0,1,2]);\n",
    "\n",
    "g_001_111.measure([0,1,2],[0,1,2])\n",
    "\n",
    "g_001_111.draw('mpl')"
   ]
  },
  {
   "cell_type": "code",
   "execution_count": 21,
   "metadata": {},
   "outputs": [
    {
     "data": {
      "image/png": "[encoded data removed]",
      "text/plain": [
       "<Figure size 504x360 with 1 Axes>"
      ]
     },
     "execution_count": 21,
     "metadata": {},
     "output_type": "execute_result"
    }
   ],
   "source": [
    "r = execute(g_001_111, backend=qasm).result()\n",
    "plot_histogram(r.get_counts())"
   ]
  },
  {
   "cell_type": "markdown",
   "metadata": {},
   "source": [
    "---"
   ]
  },
  {
   "cell_type": "markdown",
   "metadata": {},
   "source": [
    "<div style=\"text-align:center;font-style:italic\">End of exam</div>"
   ]
  }
 ],
 "metadata": {
  "kernelspec": {
   "display_name": "Python 3",
   "language": "python",
   "name": "python3"
  },
  "language_info": {
   "codemirror_mode": {
    "name": "ipython",
    "version": 3
   },
   "file_extension": ".py",
   "mimetype": "text/x-python",
   "name": "python",
   "nbconvert_exporter": "python",
   "pygments_lexer": "ipython3",
   "version": "3.7.4"
  }
 },
 "nbformat": 4,
 "nbformat_minor": 4
}
