{
 "cells": [
  {
   "cell_type": "code",
   "execution_count": 38,
   "metadata": {},
   "outputs": [],
   "source": [
    "from qiskit import QuantumCircuit, ClassicalRegister, QuantumRegister, execute, Aer\n",
    "from qiskit.visualization import plot_histogram"
   ]
  },
  {
   "cell_type": "code",
   "execution_count": 39,
   "metadata": {},
   "outputs": [],
   "source": [
    "backend = Aer.get_backend(\"qasm_simulator\")"
   ]
  },
  {
   "cell_type": "markdown",
   "metadata": {},
   "source": [
    "# Oracles:"
   ]
  },
  {
   "cell_type": "markdown",
   "metadata": {},
   "source": [
    "## $U_{A}$ : Constant 1"
   ]
  },
  {
   "cell_type": "code",
   "execution_count": 40,
   "metadata": {},
   "outputs": [
    {
     "data": {
      "text/html": [
       "<pre style=\"word-wrap: normal;white-space: pre;background: #fff0;line-height: 1.1;font-family: &quot;Courier New&quot;,Courier,monospace\">             \n",
       "q_0: |0>─────\n",
       "             \n",
       "q_1: |0>─────\n",
       "        ┌───┐\n",
       "q_2: |0>┤ X ├\n",
       "        └───┘</pre>"
      ],
      "text/plain": [
       "<qiskit.visualization.text.TextDrawing at 0x7f67c844cc10>"
      ]
     },
     "execution_count": 40,
     "metadata": {},
     "output_type": "execute_result"
    }
   ],
   "source": [
    "u_A_inner = QuantumCircuit(3, name='U_A')\n",
    "u_A_inner.x(2)\n",
    "u_A = u_A_inner.to_instruction()\n",
    "u_A_inner.draw('mpl')"
   ]
  },
  {
   "cell_type": "markdown",
   "metadata": {},
   "source": [
    "$U_{A}$ is defined by:\n",
    "\\begin{align}\n",
    "|000\\rangle & \\mapsto |100\\rangle \\\\\n",
    "|001\\rangle & \\mapsto |101\\rangle \\\\\n",
    "|010\\rangle & \\mapsto |110\\rangle \\\\\n",
    "|011\\rangle & \\mapsto |111\\rangle \\\\\n",
    "|100\\rangle & \\mapsto |000\\rangle \\\\\n",
    "|101\\rangle & \\mapsto |001\\rangle \\\\\n",
    "|110\\rangle & \\mapsto |010\\rangle \\\\\n",
    "|111\\rangle & \\mapsto |011\\rangle \\\\\n",
    "\\end{align}\n",
    "\n",
    "Verification:\n",
    "\\begin{align}\n",
    "X\\otimes I\\otimes I|000\\rangle & = |110\\rangle \\\\\n",
    "X\\otimes I\\otimes I|001\\rangle & = |111\\rangle \\\\\n",
    "X\\otimes I\\otimes I|010\\rangle & = |100\\rangle \\\\\n",
    "X\\otimes I\\otimes I|011\\rangle & = |101\\rangle \\\\\n",
    "X\\otimes I\\otimes I|100\\rangle & = |010\\rangle \\\\\n",
    "X\\otimes I\\otimes I|101\\rangle & = |011\\rangle \\\\\n",
    "X\\otimes I\\otimes I|110\\rangle & = |000\\rangle \\\\\n",
    "X\\otimes I\\otimes I|111\\rangle & = |001\\rangle \\\\\n",
    "\\end{align}"
   ]
  },
  {
   "cell_type": "markdown",
   "metadata": {},
   "source": [
    "# $U_{B}$ : Constant 0"
   ]
  },
  {
   "cell_type": "code",
   "execution_count": 41,
   "metadata": {},
   "outputs": [
    {
     "data": {
      "text/html": [
       "<pre style=\"word-wrap: normal;white-space: pre;background: #fff0;line-height: 1.1;font-family: &quot;Courier New&quot;,Courier,monospace\">        \n",
       "q_0: |0>\n",
       "        \n",
       "q_1: |0>\n",
       "        \n",
       "q_2: |0>\n",
       "        </pre>"
      ],
      "text/plain": [
       "<qiskit.visualization.text.TextDrawing at 0x7f67c844d850>"
      ]
     },
     "execution_count": 41,
     "metadata": {},
     "output_type": "execute_result"
    }
   ],
   "source": [
    "u_B_inner = QuantumCircuit(3, name='U_B')\n",
    "u_B = u_B_inner.to_instruction()\n",
    "u_B_inner.draw('mpl')"
   ]
  },
  {
   "cell_type": "markdown",
   "metadata": {},
   "source": [
    "$U_{B}$ is defined by:\n",
    "\\begin{align}\n",
    "|000\\rangle & \\mapsto |000\\rangle \\\\\n",
    "|001\\rangle & \\mapsto |001\\rangle \\\\\n",
    "|010\\rangle & \\mapsto |010\\rangle \\\\\n",
    "|011\\rangle & \\mapsto |011\\rangle \\\\\n",
    "|100\\rangle & \\mapsto |100\\rangle \\\\\n",
    "|101\\rangle & \\mapsto |101\\rangle \\\\\n",
    "|110\\rangle & \\mapsto |110\\rangle \\\\\n",
    "|111\\rangle & \\mapsto |111\\rangle \\\\\n",
    "\\end{align}\n",
    "\n",
    "Verification:\n",
    "\\begin{align}\n",
    "|000\\rangle & = |010\\rangle \\\\\n",
    "|001\\rangle & = |011\\rangle \\\\\n",
    "|010\\rangle & = |000\\rangle \\\\\n",
    "|011\\rangle & = |001\\rangle \\\\\n",
    "|100\\rangle & = |110\\rangle \\\\\n",
    "|101\\rangle & = |111\\rangle \\\\\n",
    "|110\\rangle & = |100\\rangle \\\\\n",
    "|111\\rangle & = |101\\rangle \\\\\n",
    "\\end{align}\n"
   ]
  },
  {
   "cell_type": "markdown",
   "metadata": {},
   "source": [
    "# $U_{C}$ : Least Significant Bit is 1"
   ]
  },
  {
   "cell_type": "code",
   "execution_count": 42,
   "metadata": {},
   "outputs": [
    {
     "data": {
      "text/html": [
       "<pre style=\"word-wrap: normal;white-space: pre;background: #fff0;line-height: 1.1;font-family: &quot;Courier New&quot;,Courier,monospace\">             \n",
       "q_0: |0>──■──\n",
       "          │  \n",
       "q_1: |0>──┼──\n",
       "        ┌─┴─┐\n",
       "q_2: |0>┤ X ├\n",
       "        └───┘</pre>"
      ],
      "text/plain": [
       "<qiskit.visualization.text.TextDrawing at 0x7f67c844c690>"
      ]
     },
     "execution_count": 42,
     "metadata": {},
     "output_type": "execute_result"
    }
   ],
   "source": [
    "u_c_inner = QuantumCircuit(3,name='U_C')\n",
    "u_c_inner.cnot(0,2)\n",
    "u_c = u_c_inner.to_instruction()\n",
    "u_c_inner.draw('mpl')"
   ]
  },
  {
   "cell_type": "markdown",
   "metadata": {},
   "source": [
    "$U_{C}$ is defined by:\n",
    "\\begin{align}\n",
    "|000\\rangle & \\mapsto |000\\rangle \\\\\n",
    "|001\\rangle & \\mapsto |101\\rangle \\\\\n",
    "|010\\rangle & \\mapsto |010\\rangle \\\\\n",
    "|011\\rangle & \\mapsto |111\\rangle \\\\\n",
    "|100\\rangle & \\mapsto |100\\rangle \\\\\n",
    "|101\\rangle & \\mapsto |001\\rangle \\\\\n",
    "|110\\rangle & \\mapsto |110\\rangle \\\\\n",
    "|111\\rangle & \\mapsto |011\\rangle \\\\\n",
    "\\end{align}\n",
    "\n",
    "Verification:\n",
    "\\begin{align}\n",
    "CNOT_{0,2}|000\\rangle & = |000\\rangle \\\\\n",
    "CNOT_{0,2}|001\\rangle & = |101\\rangle \\\\\n",
    "CNOT_{0,2}|010\\rangle & = |010\\rangle \\\\\n",
    "CNOT_{0,2}|011\\rangle & = |111\\rangle \\\\\n",
    "CNOT_{0,2}|100\\rangle & = |100\\rangle \\\\\n",
    "CNOT_{0,2}|101\\rangle & = |001\\rangle \\\\\n",
    "CNOT_{0,2}|110\\rangle & = |110\\rangle \\\\\n",
    "CNOT_{0,2}|111\\rangle & = |011\\rangle \\\\\n",
    "\\end{align}\n"
   ]
  },
  {
   "cell_type": "markdown",
   "metadata": {},
   "source": [
    "# $U_{D}$ : Least Significant Bit is 0 "
   ]
  },
  {
   "cell_type": "code",
   "execution_count": 43,
   "metadata": {},
   "outputs": [
    {
     "data": {
      "text/html": [
       "<pre style=\"word-wrap: normal;white-space: pre;background: #fff0;line-height: 1.1;font-family: &quot;Courier New&quot;,Courier,monospace\">        ┌───┐     ┌───┐\n",
       "q_0: |0>┤ X ├──■──┤ X ├\n",
       "        └───┘  │  └───┘\n",
       "q_1: |0>───────┼───────\n",
       "             ┌─┴─┐     \n",
       "q_2: |0>─────┤ X ├─────\n",
       "             └───┘     </pre>"
      ],
      "text/plain": [
       "<qiskit.visualization.text.TextDrawing at 0x7f67c85111d0>"
      ]
     },
     "execution_count": 43,
     "metadata": {},
     "output_type": "execute_result"
    }
   ],
   "source": [
    "u_d_inner = QuantumCircuit(3,name=\"U_D\")\n",
    "u_d_inner.x(0)\n",
    "u_d_inner.cnot(0,2)\n",
    "u_d_inner.x(0)\n",
    "u_d = u_d_inner.to_instruction()\n",
    "u_d_inner.draw('mpl')"
   ]
  },
  {
   "cell_type": "markdown",
   "metadata": {},
   "source": [
    "$U_{D}$ is defined by:\n",
    "\\begin{align}\n",
    "|000\\rangle & \\mapsto |100\\rangle \\\\\n",
    "|001\\rangle & \\mapsto |001\\rangle \\\\\n",
    "|010\\rangle & \\mapsto |110\\rangle \\\\\n",
    "|011\\rangle & \\mapsto |011\\rangle \\\\\n",
    "|100\\rangle & \\mapsto |000\\rangle \\\\\n",
    "|101\\rangle & \\mapsto |101\\rangle \\\\\n",
    "|110\\rangle & \\mapsto |010\\rangle \\\\\n",
    "|111\\rangle & \\mapsto |111\\rangle \\\\\n",
    "\\end{align}\n",
    "\n",
    "Verification:\n",
    "\\begin{align}\n",
    "(I \\otimes I \\otimes X) \\circ CNOT_{0,2} \\circ (I \\otimes I \\otimes X)|000\\rangle & = \n",
    "(I \\otimes I \\otimes X) \\circ CNOT_{0,2}|001\\rangle =\n",
    "(I \\otimes I \\otimes X)|101\\rangle =\n",
    "|100\\rangle \\\\\n",
    "(I \\otimes I \\otimes X) \\circ CNOT_{0,2} \\circ (I \\otimes I \\otimes X)|001\\rangle & = \n",
    "(I \\otimes I \\otimes X) \\circ CNOT_{0,2}|000\\rangle =\n",
    "(I \\otimes I \\otimes X)|000\\rangle =\n",
    "|001\\rangle \\\\\n",
    "(I \\otimes I \\otimes X) \\circ CNOT_{0,2} \\circ (I \\otimes I \\otimes X)|010\\rangle & =\n",
    "(I \\otimes I \\otimes X) \\circ CNOT_{0,2}|011\\rangle =\n",
    "(I \\otimes I \\otimes X)|111\\rangle =\n",
    "|110\\rangle \\\\\n",
    "(I \\otimes I \\otimes X) \\circ CNOT_{0,2} \\circ (I \\otimes I \\otimes X)|011\\rangle & = \n",
    "(I \\otimes I \\otimes X) \\circ CNOT_{0,2}|010\\rangle =\n",
    "(I \\otimes I \\otimes X)|010\\rangle =\n",
    "|011\\rangle \\\\\n",
    "(I \\otimes I \\otimes X) \\circ CNOT_{0,2} \\circ (I \\otimes I \\otimes X)|100\\rangle & = \n",
    "(I \\otimes I \\otimes X) \\circ CNOT_{0,2}|101\\rangle =\n",
    "(I \\otimes I \\otimes X)|001\\rangle =\n",
    "|000\\rangle \\\\\n",
    "(I \\otimes I \\otimes X) \\circ CNOT_{0,2} \\circ (I \\otimes I \\otimes X)|101\\rangle & = \n",
    "(I \\otimes I \\otimes X) \\circ CNOT_{0,2}|100\\rangle =\n",
    "(I \\otimes I \\otimes X)|100\\rangle =\n",
    "|101\\rangle \\\\\n",
    "(I \\otimes I \\otimes X) \\circ CNOT_{0,2} \\circ (I \\otimes I \\otimes X)|110\\rangle & = \n",
    "(I \\otimes I \\otimes X) \\circ CNOT_{0,2}|111\\rangle =\n",
    "(I \\otimes I \\otimes X)|011\\rangle =\n",
    "|010\\rangle \\\\\n",
    "(I \\otimes I \\otimes X) \\circ CNOT_{0,2} \\circ (I \\otimes I \\otimes X)|111\\rangle & = \n",
    "(I \\otimes I \\otimes X) \\circ CNOT_{0,2}|110\\rangle =\n",
    "(I \\otimes I \\otimes X)|110\\rangle =\n",
    "|111\\rangle \\\\\n",
    "\\end{align}\n"
   ]
  },
  {
   "cell_type": "code",
   "execution_count": null,
   "metadata": {},
   "outputs": [],
   "source": []
  },
  {
   "cell_type": "markdown",
   "metadata": {},
   "source": [
    "# The Deutsch algorithm:"
   ]
  },
  {
   "cell_type": "code",
   "execution_count": 44,
   "metadata": {},
   "outputs": [
    {
     "data": {
      "text/html": [
       "<pre style=\"word-wrap: normal;white-space: pre;background: #fff0;line-height: 1.1;font-family: &quot;Courier New&quot;,Courier,monospace\">              ░ ┌───┐┌──────┐┌───┐ ░ ┌─┐   \n",
       "q_0: |0>──────░─┤ H ├┤0     ├┤ H ├─░─┤M├───\n",
       "              ░ ├───┤│      │├───┤ ░ └╥┘┌─┐\n",
       "q_1: |0>──────░─┤ H ├┤1 U_D ├┤ H ├─░──╫─┤M├\n",
       "        ┌───┐ ░ ├───┤│      │└───┘ ░  ║ └╥┘\n",
       "q_2: |0>┤ X ├─░─┤ H ├┤2     ├──────░──╫──╫─\n",
       "        └───┘ ░ └───┘└──────┘      ░  ║  ║ \n",
       " c_0: 0 ══════════════════════════════╩══╬═\n",
       "                                         ║ \n",
       " c_1: 0 ═════════════════════════════════╩═\n",
       "                                           </pre>"
      ],
      "text/plain": [
       "<qiskit.visualization.text.TextDrawing at 0x7f67c85412d0>"
      ]
     },
     "execution_count": 44,
     "metadata": {},
     "output_type": "execute_result"
    }
   ],
   "source": [
    "c = QuantumCircuit(3,2)\n",
    "c.x(2)\n",
    "c.barrier();\n",
    "c.h(0);\n",
    "c.h(1);\n",
    "c.h(2);\n",
    "#c.append(u_A, [0, 1, 2]);\n",
    "#c.append(u_B, [0, 1, 2]);\n",
    "#c.append(u_c, [0, 1, 2]);\n",
    "c.append(u_d, [0, 1, 2]);\n",
    "c.h(0);\n",
    "c.h(1);\n",
    "c.barrier();\n",
    "c.measure(range(2),range(2));\n",
    "c.draw('mpl')"
   ]
  },
  {
   "cell_type": "code",
   "execution_count": 45,
   "metadata": {
    "scrolled": true
   },
   "outputs": [
    {
     "data": {
      "image/png": "[encoded data removed]",
      "text/plain": [
       "<Figure size 504x360 with 1 Axes>"
      ]
     },
     "execution_count": 45,
     "metadata": {},
     "output_type": "execute_result"
    }
   ],
   "source": [
    "job = execute(c, backend=backend, shots=1024)\n",
    "counts = job.result().get_counts()\n",
    "plot_histogram(counts)"
   ]
  },
  {
   "cell_type": "markdown",
   "metadata": {},
   "source": [
    "# Verifications:"
   ]
  },
  {
   "cell_type": "markdown",
   "metadata": {},
   "source": [
    "## Deutsch$(U_{A})$"
   ]
  },
  {
   "cell_type": "markdown",
   "metadata": {},
   "source": [
    "We need to know the definition of $U_{A}|-++\\rangle$ below, so we\n",
    "calculate it here: \n",
    "\n",
    "\\begin{align}\n",
    "U_A|-++\\rangle\n",
    "&= U_A \\frac{1}{2\\sqrt{2}}(|000\\rangle + |010\\rangle + |001\\rangle + |011\\rangle - |100\\rangle - |110\\rangle - |101\\rangle - |111\\rangle) \\\\\n",
    "&= \\frac{1}{2\\sqrt{2}}(|100\\rangle + |110\\rangle + |101\\rangle + |111\\rangle - |000\\rangle - |010\\rangle - |001\\rangle - |011\\rangle) \\\\\n",
    "&= \\frac{1}{\\sqrt{2}}(|1\\rangle - |0\\rangle) \\otimes \\frac{1}{2}(|00\\rangle + |10\\rangle + |01\\rangle + |11\\rangle) \\\\\n",
    "&= -|-++\\rangle\\\\\n",
    "\\end{align}\n",
    "\n",
    "Next we verify that Deutch of the constant 1 function has a 00 as the least significant bits\n",
    "\\begin{align}\n",
    "(I \\otimes H \\otimes H)\\circ U_{A} \\circ (H \\otimes H \\otimes H) \\circ (X \\otimes I \\otimes I)|000\\rangle \n",
    "&= (I \\otimes H \\otimes H)\\circ U_{A} \\circ (H \\otimes H \\otimes H)|100\\rangle \\\\\n",
    "&= (I \\otimes H \\otimes H)\\circ U_{A}|-++\\rangle\\\\\n",
    "&= (I \\otimes H \\otimes H)(-|-++\\rangle) \\\\\n",
    "&= -|-00\\rangle\n",
    "\\end{align}"
   ]
  },
  {
   "cell_type": "markdown",
   "metadata": {},
   "source": [
    "## Deutsch$(U_{B})$"
   ]
  },
  {
   "cell_type": "markdown",
   "metadata": {},
   "source": [
    "We need to know the definition of $U_{B}|-++\\rangle$ below, so we\n",
    "calculate it here: \n",
    "\n",
    "\\begin{align}\n",
    "U_B|-++\\rangle\n",
    "&= U_B \\frac{1}{2\\sqrt{2}}(|000\\rangle + |010\\rangle + |001\\rangle + |011\\rangle - |100\\rangle - |110\\rangle - |101\\rangle - |111\\rangle) \\\\\n",
    "&= \\frac{1}{2\\sqrt{2}}(|000\\rangle + |010\\rangle + |001\\rangle + |011\\rangle - |100\\rangle - |110\\rangle - |101\\rangle - |111\\rangle) \\\\\n",
    "&= |-++\\rangle\n",
    "\\end{align}\n",
    "\n",
    "Next we verify that Deutch of the constant 1 function has a 00 as the least significant bits.\n",
    "\\begin{align}\n",
    "(I \\otimes H \\otimes H)\\circ U_{B} \\circ (H \\otimes H \\otimes H) \\circ (X \\otimes I \\otimes I)|000\\rangle \n",
    "&= (I \\otimes H \\otimes H)\\circ U_{B} \\circ (H \\otimes H \\otimes H)|100\\rangle \\\\\n",
    "&= (I \\otimes H \\otimes H)\\circ U_{B}|-++\\rangle\\\\\n",
    "&= (I \\otimes H \\otimes H)|-++\\rangle \\\\\n",
    "&= |100\\rangle\n",
    "\\end{align}"
   ]
  },
  {
   "cell_type": "markdown",
   "metadata": {},
   "source": [
    "## Deutsch$(U_{C})$"
   ]
  },
  {
   "cell_type": "markdown",
   "metadata": {},
   "source": [
    "We need to know the definition of $U_{C}|-++\\rangle$ below, so we\n",
    "calculate it here: \n",
    "\n",
    "\\begin{align}\n",
    "U_C|-++\\rangle\n",
    "&= U_C \\frac{1}{2\\sqrt{2}}(|000\\rangle + |010\\rangle + |001\\rangle + |011\\rangle - |100\\rangle - |110\\rangle - |101\\rangle - |111\\rangle) \\\\\n",
    "&= \\frac{1}{2\\sqrt{2}}(|000\\rangle + |010\\rangle + |101\\rangle +\n",
    "|111\\rangle - |100\\rangle - |110\\rangle - |001\\rangle - |011\\rangle)\\\\ \n",
    "&= \\frac{1}{\\sqrt{2}}(|0\\rangle - |1\\rangle) \\otimes \\frac{1}{2}(|00\\rangle + |10\\rangle - |01\\rangle - |11\\rangle) \\\\\n",
    "&= |-\\rangle \\otimes \\frac{1}{\\sqrt{2}}(|0\\rangle + |1\\rangle) \\otimes \\frac{1}{\\sqrt{2}}(|0\\rangle - |1\\rangle) \\\\\n",
    "&= |-+-\\rangle\n",
    "\\end{align}\n",
    "\n",
    "Next we verify that Deutch of the constant 1 function has a 01 as the least significant bits.\n",
    "\\begin{align}\n",
    "(I \\otimes H \\otimes H)\\circ U_{C} \\circ (H \\otimes H \\otimes H) \\circ (X \\otimes I \\otimes I)|000\\rangle \n",
    "&= (I \\otimes H \\otimes H)\\circ U_{C} \\circ (H \\otimes H \\otimes H)|100\\rangle \\\\\n",
    "&= (I \\otimes H \\otimes H)\\circ U_{C}|-++\\rangle\\\\\n",
    "&= (I \\otimes H \\otimes H)|-+-\\rangle \\\\\n",
    "&= |-01\\rangle\n",
    "\\end{align}"
   ]
  },
  {
   "cell_type": "markdown",
   "metadata": {},
   "source": [
    "## Deutsch$(U_{D})$"
   ]
  },
  {
   "cell_type": "markdown",
   "metadata": {},
   "source": [
    "We need to know the definition of $U_{D}|-++\\rangle$ below, so we\n",
    "calculate it here: \n",
    "\n",
    "\\begin{align}\n",
    "U_D|-++\\rangle\n",
    "&= U_D \\frac{1}{2\\sqrt{2}}(|000\\rangle + |010\\rangle + |001\\rangle + |011\\rangle - |100\\rangle - |110\\rangle - |101\\rangle - |111\\rangle) \\\\\n",
    "&= \\frac{1}{2\\sqrt{2}}(|100\\rangle + |110\\rangle + |001\\rangle + |011\\rangle - |000\\rangle - |010\\rangle - |101\\rangle - |111\\rangle) \\\\\n",
    "&= \\frac{1}{\\sqrt{2}}(|0\\rangle - |1\\rangle) \\otimes \\frac{1}{2}(|01\\rangle + |11\\rangle - |00\\rangle - |10\\rangle)\\\\\n",
    "&= |-\\rangle \\otimes \\frac{1}{\\sqrt{2}}(|0\\rangle + |1\\rangle) \\otimes \\frac{1}{\\sqrt{2}}(|1\\rangle - |0\\rangle)\\\\\n",
    "&= |-\\rangle \\otimes |+\\rangle \\otimes -|-\\rangle\\\\\n",
    "&= -|-+-\\rangle\n",
    "\\end{align}\n",
    "\n",
    "Next we verify that Deutch of the constant 1 function has a 01 as the least significant bits.\n",
    "\\begin{align}\n",
    "(I \\otimes H \\otimes H)\\circ U_{D} \\circ (H \\otimes H \\otimes H) \\circ (X \\otimes I \\otimes I)|000\\rangle \n",
    "&= (I \\otimes H \\otimes H)\\circ U_{D} \\circ (H \\otimes H \\otimes H)|100\\rangle \\\\\n",
    "&= (I \\otimes H \\otimes H)\\circ U_{D}|-++\\rangle\\\\\n",
    "&= (I \\otimes H \\otimes H)-|-+-\\rangle \\\\\n",
    "&= -|-01\\rangle\n",
    "\\end{align}"
   ]
  }
 ],
 "metadata": {
  "kernelspec": {
   "display_name": "Python 3",
   "language": "python",
   "name": "python3"
  },
  "language_info": {
   "codemirror_mode": {
    "name": "ipython",
    "version": 3
   },
   "file_extension": ".py",
   "mimetype": "text/x-python",
   "name": "python",
   "nbconvert_exporter": "python",
   "pygments_lexer": "ipython3",
   "version": "3.7.4"
  }
 },
 "nbformat": 4,
 "nbformat_minor": 2
}
