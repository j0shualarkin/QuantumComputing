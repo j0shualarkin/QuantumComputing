{
 "cells": [
  {
   "cell_type": "code",
   "execution_count": 2,
   "metadata": {},
   "outputs": [],
   "source": [
    "from qiskit import QuantumCircuit, ClassicalRegister, QuantumRegister, execute, Aer\n",
    "from qiskit.visualization import plot_histogram"
   ]
  },
  {
   "cell_type": "code",
   "execution_count": null,
   "metadata": {},
   "outputs": [],
   "source": []
  },
  {
   "cell_type": "code",
   "execution_count": 3,
   "metadata": {},
   "outputs": [],
   "source": [
    "backend = Aer.get_backend(\"qasm_simulator\")"
   ]
  },
  {
   "cell_type": "markdown",
   "metadata": {},
   "source": [
    "---"
   ]
  },
  {
   "cell_type": "markdown",
   "metadata": {},
   "source": [
    "# Oracles:"
   ]
  },
  {
   "cell_type": "markdown",
   "metadata": {},
   "source": [
    "## $U_{id}$"
   ]
  },
  {
   "cell_type": "code",
   "execution_count": 4,
   "metadata": {},
   "outputs": [
    {
     "data": {
      "text/html": [
       "<pre style=\"word-wrap: normal;white-space: pre;background: #fff0;line-height: 1.1;font-family: &quot;Courier New&quot;,Courier,monospace\">             \n",
       "q_0: |0>──■──\n",
       "        ┌─┴─┐\n",
       "q_1: |0>┤ X ├\n",
       "        └───┘</pre>"
      ],
      "text/plain": [
       "<qiskit.visualization.text.TextDrawing at 0x7f4f37e62ad0>"
      ]
     },
     "execution_count": 4,
     "metadata": {},
     "output_type": "execute_result"
    }
   ],
   "source": [
    "u_id_inner = QuantumCircuit(2, name='U_id')\n",
    "u_id_inner.cnot(0,1);\n",
    "u_id = u_id_inner.to_instruction()\n",
    "u_id_inner.draw('mpl')"
   ]
  },
  {
   "cell_type": "markdown",
   "metadata": {},
   "source": [
    "(Recall that in Qiskit the order of the tensors is from MSB to LSB: $Q_{n-1}\\otimes \\dotsb \\otimes Q_{0}$.)\n",
    "\n",
    "$U_{id}$ is defined by:\n",
    "\\begin{align}\n",
    "|00\\rangle & \\mapsto |00\\rangle \\\\\n",
    "|01\\rangle & \\mapsto |11\\rangle \\\\\n",
    "|10\\rangle & \\mapsto |10\\rangle \\\\\n",
    "|11\\rangle & \\mapsto |01\\rangle \\\\\n",
    "\\end{align}\n",
    "\n",
    "Verification:\n",
    "\\begin{align}\n",
    "CNOT_{0,1}|00\\rangle & = |00\\rangle \\\\\n",
    "CNOT_{0,1}|01\\rangle & = |11\\rangle \\\\\n",
    "CNOT_{0,1}|10\\rangle & = |10\\rangle \\\\\n",
    "CNOT_{0,1}|11\\rangle & = |01\\rangle \\\\\n",
    "\\end{align}"
   ]
  },
  {
   "cell_type": "markdown",
   "metadata": {},
   "source": [
    "## $U_{not}$"
   ]
  },
  {
   "cell_type": "code",
   "execution_count": 5,
   "metadata": {},
   "outputs": [
    {
     "data": {
      "text/html": [
       "<pre style=\"word-wrap: normal;white-space: pre;background: #fff0;line-height: 1.1;font-family: &quot;Courier New&quot;,Courier,monospace\">        ┌───┐     ┌───┐\n",
       "q_0: |0>┤ X ├──■──┤ X ├\n",
       "        └───┘┌─┴─┐└───┘\n",
       "q_1: |0>─────┤ X ├─────\n",
       "             └───┘     </pre>"
      ],
      "text/plain": [
       "<qiskit.visualization.text.TextDrawing at 0x7f4f37dfcfd0>"
      ]
     },
     "execution_count": 5,
     "metadata": {},
     "output_type": "execute_result"
    }
   ],
   "source": [
    "u_not_inner = QuantumCircuit(2, name='U_not')\n",
    "u_not_inner.x(0)\n",
    "u_not_inner.cnot(0,1)\n",
    "u_not_inner.x(0)\n",
    "u_not = u_not_inner.to_instruction()\n",
    "u_not_inner.draw('mpl')"
   ]
  },
  {
   "cell_type": "markdown",
   "metadata": {},
   "source": [
    "$U_{not}$ is defined by:\n",
    "\\begin{align}\n",
    "|00\\rangle & \\mapsto |10\\rangle \\\\\n",
    "|01\\rangle & \\mapsto |01\\rangle \\\\\n",
    "|10\\rangle & \\mapsto |00\\rangle \\\\\n",
    "|11\\rangle & \\mapsto |11\\rangle \\\\\n",
    "\\end{align}\n",
    "\n",
    "Verification:\n",
    "\\begin{align}\n",
    "(I\\otimes X)\\circ CNOT_{0,1}\\circ (I \\otimes X) |00\\rangle & = \n",
    "(I\\otimes X)\\circ CNOT_{0,1}|01\\rangle =\n",
    "(I\\otimes X)|11\\rangle = |10\\rangle\\\\\n",
    "(I\\otimes X)\\circ CNOT_{0,1}\\circ (I \\otimes X) |01\\rangle & = \n",
    "(I\\otimes X)\\circ CNOT_{0,1}|00\\rangle =\n",
    "(I\\otimes X)|00\\rangle = |01\\rangle\\\\\n",
    "(I\\otimes X)\\circ CNOT_{0,1}\\circ (I \\otimes X) |10\\rangle & = \n",
    "(I\\otimes X)\\circ CNOT_{0,1}|11\\rangle =\n",
    "(I\\otimes X)|01\\rangle = |00\\rangle\\\\\n",
    "(I\\otimes X)\\circ CNOT_{0,1}\\circ (I \\otimes X) |11\\rangle & = \n",
    "(I\\otimes X)\\circ CNOT_{0,1}|10\\rangle =\n",
    "(I\\otimes X)|10\\rangle = |11\\rangle\\\\\n",
    "\\end{align}"
   ]
  },
  {
   "cell_type": "markdown",
   "metadata": {},
   "source": [
    "## $U_{c_0}$"
   ]
  },
  {
   "cell_type": "code",
   "execution_count": 6,
   "metadata": {},
   "outputs": [
    {
     "data": {
      "text/html": [
       "<pre style=\"word-wrap: normal;white-space: pre;background: #fff0;line-height: 1.1;font-family: &quot;Courier New&quot;,Courier,monospace\">        \n",
       "q_0: |0>\n",
       "        \n",
       "q_1: |0>\n",
       "        </pre>"
      ],
      "text/plain": [
       "<qiskit.visualization.text.TextDrawing at 0x7f4f37e10590>"
      ]
     },
     "execution_count": 6,
     "metadata": {},
     "output_type": "execute_result"
    }
   ],
   "source": [
    "u_c0_inner = QuantumCircuit(2, name='U_c0')\n",
    "u_c0 = u_c0_inner.to_instruction()\n",
    "u_c0_inner.draw('mpl')"
   ]
  },
  {
   "cell_type": "markdown",
   "metadata": {},
   "source": [
    "$U_{c_0}$ is defined by:\n",
    "\\begin{align}\n",
    "|00\\rangle & \\mapsto |00\\rangle \\\\\n",
    "|01\\rangle & \\mapsto |01\\rangle \\\\\n",
    "|10\\rangle & \\mapsto |10\\rangle \\\\\n",
    "|11\\rangle & \\mapsto |11\\rangle \\\\\n",
    "\\end{align}\n",
    "\n",
    "Verification:\n",
    "\\begin{align}\n",
    "|00\\rangle & = |00\\rangle \\\\\n",
    "|01\\rangle & = |01\\rangle \\\\\n",
    "|10\\rangle & = |10\\rangle \\\\\n",
    "|11\\rangle & = |11\\rangle \\\\\n",
    "\\end{align}"
   ]
  },
  {
   "cell_type": "markdown",
   "metadata": {},
   "source": [
    "## $U_{c_1}$"
   ]
  },
  {
   "cell_type": "code",
   "execution_count": 7,
   "metadata": {},
   "outputs": [
    {
     "data": {
      "text/html": [
       "<pre style=\"word-wrap: normal;white-space: pre;background: #fff0;line-height: 1.1;font-family: &quot;Courier New&quot;,Courier,monospace\">             \n",
       "q_0: |0>─────\n",
       "        ┌───┐\n",
       "q_1: |0>┤ X ├\n",
       "        └───┘</pre>"
      ],
      "text/plain": [
       "<qiskit.visualization.text.TextDrawing at 0x7f4f37e1b490>"
      ]
     },
     "execution_count": 7,
     "metadata": {},
     "output_type": "execute_result"
    }
   ],
   "source": [
    "u_c1_inner = QuantumCircuit(2, name='U_c1')\n",
    "u_c1_inner.x(1)\n",
    "u_c1 = u_c1_inner.to_instruction()\n",
    "u_c1_inner.draw('mpl')"
   ]
  },
  {
   "cell_type": "markdown",
   "metadata": {},
   "source": [
    "$U_{c_1}$ is defined by:\n",
    "\\begin{align}\n",
    "|00\\rangle & \\mapsto |10\\rangle \\\\\n",
    "|01\\rangle & \\mapsto |11\\rangle \\\\\n",
    "|10\\rangle & \\mapsto |00\\rangle \\\\\n",
    "|11\\rangle & \\mapsto |01\\rangle \\\\\n",
    "\\end{align}\n",
    "\n",
    "Verification:\n",
    "\\begin{align}\n",
    "X\\otimes I|00\\rangle & = |10\\rangle \\\\\n",
    "X\\otimes I|01\\rangle & = |11\\rangle \\\\\n",
    "X\\otimes I|10\\rangle & = |00\\rangle \\\\\n",
    "X\\otimes I|11\\rangle & = |01\\rangle \\\\\n",
    "\\end{align}"
   ]
  },
  {
   "cell_type": "markdown",
   "metadata": {},
   "source": [
    "# The Deutsch algorithm:"
   ]
  },
  {
   "cell_type": "code",
   "execution_count": 8,
   "metadata": {},
   "outputs": [],
   "source": [
    "c = QuantumCircuit(2,1)"
   ]
  },
  {
   "cell_type": "code",
   "execution_count": 9,
   "metadata": {},
   "outputs": [],
   "source": [
    "c.x(1);"
   ]
  },
  {
   "cell_type": "code",
   "execution_count": 10,
   "metadata": {},
   "outputs": [],
   "source": [
    "c.barrier();"
   ]
  },
  {
   "cell_type": "code",
   "execution_count": 11,
   "metadata": {},
   "outputs": [],
   "source": [
    "c.h(0);\n",
    "c.h(1);"
   ]
  },
  {
   "cell_type": "code",
   "execution_count": 12,
   "metadata": {},
   "outputs": [],
   "source": [
    "#c.append(u_id, [0, 1]);\n",
    "#c.append(u_not, [0, 1]);\n",
    "c.append(u_c0, [0, 1]);\n",
    "# c.append(u_c1, [0, 1]);"
   ]
  },
  {
   "cell_type": "code",
   "execution_count": 13,
   "metadata": {},
   "outputs": [],
   "source": [
    "c.h(0);"
   ]
  },
  {
   "cell_type": "code",
   "execution_count": 14,
   "metadata": {},
   "outputs": [],
   "source": [
    "c.barrier();"
   ]
  },
  {
   "cell_type": "code",
   "execution_count": 15,
   "metadata": {},
   "outputs": [],
   "source": [
    "c.measure(0,0);"
   ]
  },
  {
   "cell_type": "code",
   "execution_count": 16,
   "metadata": {},
   "outputs": [
    {
     "data": {
      "text/html": [
       "<pre style=\"word-wrap: normal;white-space: pre;background: #fff0;line-height: 1.1;font-family: &quot;Courier New&quot;,Courier,monospace\">              ░ ┌───┐┌───────┐┌───┐ ░ ┌─┐\n",
       "q_0: |0>──────░─┤ H ├┤0      ├┤ H ├─░─┤M├\n",
       "        ┌───┐ ░ ├───┤│  U_c0 │└───┘ ░ └╥┘\n",
       "q_1: |0>┤ X ├─░─┤ H ├┤1      ├──────░──╫─\n",
       "        └───┘ ░ └───┘└───────┘      ░  ║ \n",
       " c_0: 0 ═══════════════════════════════╩═\n",
       "                                         </pre>"
      ],
      "text/plain": [
       "<qiskit.visualization.text.TextDrawing at 0x7f4f7a994dd0>"
      ]
     },
     "execution_count": 16,
     "metadata": {},
     "output_type": "execute_result"
    }
   ],
   "source": [
    "c.draw(\"mpl\")\n",
    "#c.decompose().draw(\"mpl\")"
   ]
  },
  {
   "cell_type": "markdown",
   "metadata": {},
   "source": [
    "# Experiment:"
   ]
  },
  {
   "cell_type": "code",
   "execution_count": 36,
   "metadata": {
    "scrolled": true
   },
   "outputs": [
    {
     "data": {
      "image/png": "[encoded data removed]",
      "text/plain": [
       "<Figure size 504x360 with 1 Axes>"
      ]
     },
     "execution_count": 36,
     "metadata": {},
     "output_type": "execute_result"
    }
   ],
   "source": [
    "job = execute(c, backend=backend, shots=1024)\n",
    "counts = job.result().get_counts()\n",
    "plot_histogram(counts)"
   ]
  },
  {
   "cell_type": "markdown",
   "metadata": {},
   "source": [
    "# Verifications:"
   ]
  },
  {
   "cell_type": "markdown",
   "metadata": {},
   "source": [
    "## Deutsch$(U_{id})$"
   ]
  },
  {
   "cell_type": "markdown",
   "metadata": {},
   "source": [
    "\\begin{align}\n",
    "U_{id}|-+\\rangle & = U_{id}\\tfrac{1}{2}(|00\\rangle + |01\\rangle - |10\\rangle - |11\\rangle)\\\\\n",
    "& = \\tfrac{1}{2}(|00\\rangle + |11\\rangle - |10\\rangle - |01\\rangle)\\\\\n",
    "& = |--\\rangle\\\\\n",
    "(I \\otimes H)\\circ U_{id}\\circ (H \\otimes H)\\circ (X\\otimes I)|00\\rangle\n",
    "& = (I \\otimes H)\\circ U_{id}\\circ (H \\otimes H)|10\\rangle\\\\\n",
    "& = (I \\otimes H)\\circ U_{id}|-+\\rangle\\\\\n",
    "& = (I \\otimes H)|--\\rangle\\\\\n",
    "& = |-1\\rangle\\\\\n",
    "\\end{align}"
   ]
  },
  {
   "cell_type": "markdown",
   "metadata": {},
   "source": [
    "## Deutsch$(U_{not})$"
   ]
  },
  {
   "cell_type": "markdown",
   "metadata": {},
   "source": [
    "\\begin{align}\n",
    "U_{not}|-+\\rangle & = U_{not}\\tfrac{1}{2}(|00\\rangle + |01\\rangle - |10\\rangle - |11\\rangle)\\\\\n",
    "& = \\tfrac{1}{2}(|10\\rangle + |01\\rangle - |00\\rangle - |11\\rangle)\\\\\n",
    "& = -|--\\rangle\\\\\n",
    "(I \\otimes H)\\circ U_{not}\\circ (H \\otimes H)\\circ (X\\otimes I)|00\\rangle\n",
    "& = (I \\otimes H)\\circ U_{not}\\circ (H \\otimes H)|10\\rangle\\\\\n",
    "& = (I \\otimes H)\\circ U_{not}|-+\\rangle\\\\\n",
    "& = -(I \\otimes H)|--\\rangle\\\\\n",
    "& = -|-1\\rangle\\\\\n",
    "\\end{align}"
   ]
  },
  {
   "cell_type": "markdown",
   "metadata": {},
   "source": [
    "## Deutsch$(U_{c_0})$"
   ]
  },
  {
   "cell_type": "markdown",
   "metadata": {},
   "source": [
    "\\begin{align}\n",
    "U_{c_0}|-+\\rangle & = |-+\\rangle\\\\\n",
    "(I \\otimes H)\\circ U_{c_0}\\circ (H \\otimes H)\\circ (X\\otimes I)|00\\rangle\n",
    "& = (I \\otimes H)\\circ U_{c_0}\\circ (H \\otimes H)|10\\rangle\\\\\n",
    "& = (I \\otimes H)\\circ U_{c_0}|-+\\rangle\\\\\n",
    "& = (I \\otimes H)|-+\\rangle\\\\\n",
    "& = |-0\\rangle\\\\\n",
    "\\end{align}"
   ]
  },
  {
   "cell_type": "markdown",
   "metadata": {},
   "source": [
    "## Deutsch$(U_{c_1})$"
   ]
  },
  {
   "cell_type": "markdown",
   "metadata": {},
   "source": [
    "\\begin{align}\n",
    "U_{c_1}|-+\\rangle & = U_{c_1}\\tfrac{1}{2}(|00\\rangle + |01\\rangle - |10\\rangle - |11\\rangle)\\\\\n",
    "& = \\tfrac{1}{2}(|10\\rangle + |11\\rangle - |00\\rangle - |01\\rangle)\\\\\n",
    "& = -|-+\\rangle\\\\\n",
    "(I \\otimes H)\\circ U_{c_1}\\circ (H \\otimes H)\\circ (X\\otimes I)|00\\rangle\n",
    "& = (I \\otimes H)\\circ U_{c_1}\\circ (H \\otimes H)|10\\rangle\\\\\n",
    "& = (I \\otimes H)\\circ U_{c_1}|-+\\rangle\\\\\n",
    "& = -(I \\otimes H)|-+\\rangle\\\\\n",
    "& = -|-0\\rangle\\\\\n",
    "\\end{align}"
   ]
  },
  {
   "cell_type": "markdown",
   "metadata": {},
   "source": [
    "---"
   ]
  }
 ],
 "metadata": {
  "kernelspec": {
   "display_name": "Python 3",
   "language": "python",
   "name": "python3"
  },
  "language_info": {
   "codemirror_mode": {
    "name": "ipython",
    "version": 3
   },
   "file_extension": ".py",
   "mimetype": "text/x-python",
   "name": "python",
   "nbconvert_exporter": "python",
   "pygments_lexer": "ipython3",
   "version": "3.7.4"
  }
 },
 "nbformat": 4,
 "nbformat_minor": 4
}
