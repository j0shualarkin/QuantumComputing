{
 "cells": [
  {
   "cell_type": "code",
   "execution_count": 1,
   "metadata": {},
   "outputs": [],
   "source": [
    "from qiskit import QuantumCircuit, ClassicalRegister, QuantumRegister, execute, Aer\n",
    "from qiskit.visualization import plot_histogram"
   ]
  },
  {
   "cell_type": "code",
   "execution_count": 2,
   "metadata": {},
   "outputs": [],
   "source": [
    "backend = Aer.get_backend(\"qasm_simulator\")"
   ]
  },
  {
   "cell_type": "markdown",
   "metadata": {},
   "source": [
    "\n",
    "\n",
    "# Oracles:"
   ]
  },
  {
   "cell_type": "markdown",
   "metadata": {},
   "source": [
    "## $U_{A}$ : s = 000"
   ]
  },
  {
   "cell_type": "markdown",
   "metadata": {},
   "source": [
    "For this, we are describing a function $f$ whose secret string is 000.\n",
    "\n",
    "Let $Z = \\mathbb{Z} / 2$ be the set of equivalences classes (mod 2) on the integers.\n",
    "\n",
    "Consider the function $f : Z^3 \\to Z^3$, \n",
    "\n",
    "$f(a, b, c) = c, a, b$\n",
    "\n",
    "We can think about pieces of this sequence like so\n",
    "\n",
    "$f(a,b,c)_0 = (c,a,b)_0 = c$\n",
    "\n",
    "$f(a,b,c)_1 = (c,a,b)_1 = a$\n",
    "\n",
    "$f(a,b,c)_2 = (c,a,b)_2 = b$\n",
    "\n"
   ]
  },
  {
   "cell_type": "markdown",
   "metadata": {},
   "source": [
    "Then the oracle $U_A$ will take a state \n",
    "\n",
    "$|y_2,y_1,y_0,x_2,x_1,x_0\\rangle$\n",
    "\n",
    "\n",
    "to a state \n",
    "\n",
    "$| f(x)_2 + y_2, f(x)_1 + y1, f(x)_0 + y_0, x_2, x_1, x_0\\rangle$\n",
    "\n",
    "Because the oracle leaves the inputs ($x_i$) fixed and writes the \n",
    "result of applying $f$ to the inputs on the $y_i$ wires. "
   ]
  },
  {
   "cell_type": "markdown",
   "metadata": {},
   "source": [
    "Below we have the implementation of the circuit of the oracle for $f$. "
   ]
  },
  {
   "cell_type": "markdown",
   "metadata": {},
   "source": [
    "The oracle is defined by \n",
    "\\begin{align}\n",
    "|000000\\rangle & \\mapsto |000000\\rangle \\\\\n",
    "|000001\\rangle & \\mapsto |100001\\rangle \\\\\n",
    "|000010\\rangle & \\mapsto |001010\\rangle \\\\\n",
    "|000011\\rangle & \\mapsto |101011\\rangle \\\\\n",
    "|000100\\rangle & \\mapsto |010100\\rangle \\\\\n",
    "|000101\\rangle & \\mapsto |110101\\rangle \\\\\n",
    "|000110\\rangle & \\mapsto |011110\\rangle \\\\\n",
    "|000111\\rangle & \\mapsto |111111\\rangle \\\\\n",
    "\\end{align}\n",
    "\n",
    "Note: we are only considering when the first three qbits are 0, since this is how the oracle will be run. \n"
   ]
  },
  {
   "cell_type": "code",
   "execution_count": 3,
   "metadata": {},
   "outputs": [
    {
     "data": {
      "text/html": [
       "<pre style=\"word-wrap: normal;white-space: pre;background: #fff0;line-height: 1.1;font-family: &quot;Courier New&quot;,Courier,monospace\">                  ┌───┐\n",
       "q_0: |0>──────────┤ X ├\n",
       "        ┌───┐     └─┬─┘\n",
       "q_1: |0>┤ X ├───────┼──\n",
       "        └─┬─┘┌───┐  │  \n",
       "q_2: |0>──┼──┤ X ├──┼──\n",
       "          │  └─┬─┘  │  \n",
       "q_3: |0>──■────┼────┼──\n",
       "               │    │  \n",
       "q_4: |0>───────■────┼──\n",
       "                    │  \n",
       "q_5: |0>────────────■──\n",
       "                       </pre>"
      ],
      "text/plain": [
       "<qiskit.visualization.text.TextDrawing at 0x7f37e64b4290>"
      ]
     },
     "execution_count": 3,
     "metadata": {},
     "output_type": "execute_result"
    }
   ],
   "source": [
    "u_a_inner = QuantumCircuit(6, name='u_a')\n",
    "u_a_inner.cnot(3,1)\n",
    "u_a_inner.cnot(4,2)\n",
    "u_a_inner.cnot(5,0)\n",
    "u_a = u_a_inner.to_instruction() # this gives us the `u_a` oracle to use later when finding secrets\n",
    "u_a_inner.draw('mpl')"
   ]
  },
  {
   "cell_type": "markdown",
   "metadata": {},
   "source": [
    "Verification:\n",
    "\n",
    "\\begin{align}\n",
    "CNOT_{5,0} \\circ CNOT_{4,2} \\circ CNOT_{3,1}|000000\\rangle \n",
    "&= CNOT_{5,0} \\circ CNOT_{4,2}|000000\\rangle \n",
    "=  CNOT_{5,0}|000000\\rangle \n",
    "= |000000\\rangle \\\\\n",
    "CNOT_{5,0} \\circ CNOT_{4,2} \\circ CNOT_{3,1}|000001\\rangle \n",
    "&= CNOT_{5,0} \\circ CNOT_{4,2}|000001\\rangle \n",
    "=  CNOT_{5,0}|000001\\rangle \n",
    "= |100001\\rangle \\\\\n",
    "CNOT_{5,0} \\circ CNOT_{4,2} \\circ CNOT_{3,1}|000010\\rangle \n",
    "&= CNOT_{5,0} \\circ CNOT_{4,2}|000010\\rangle \n",
    "=  CNOT_{5,0}|001010\\rangle \n",
    "= |001010\\rangle \\\\\n",
    "CNOT_{5,0} \\circ CNOT_{4,2} \\circ CNOT_{3,1}|000011\\rangle \n",
    "&= CNOT_{5,0} \\circ CNOT_{4,2}|000011\\rangle \n",
    "=  CNOT_{5,0}|001011\\rangle \n",
    "= |101011\\rangle \\\\\n",
    "CNOT_{5,0} \\circ CNOT_{4,2} \\circ CNOT_{3,1}|000100\\rangle \n",
    "&= CNOT_{5,0} \\circ CNOT_{4,2}|010100\\rangle \n",
    "=  CNOT_{5,0}|010100\\rangle \n",
    "= |010100\\rangle \\\\ \n",
    "CNOT_{5,0} \\circ CNOT_{4,2} \\circ CNOT_{3,1}|000101\\rangle \n",
    "&= CNOT_{5,0} \\circ CNOT_{4,2}|010101\\rangle \n",
    "=  CNOT_{5,0}|010101\\rangle \n",
    "= |110101\\rangle \\\\ \n",
    "CNOT_{5,0} \\circ CNOT_{4,2} \\circ CNOT_{3,1}|000110\\rangle \n",
    "&= CNOT_{5,0} \\circ CNOT_{4,2}|010110\\rangle \n",
    "=  CNOT_{5,0}|011110\\rangle \n",
    "= |011110\\rangle \\\\ \n",
    "CNOT_{5,0} \\circ CNOT_{4,2} \\circ CNOT_{3,1}|000111\\rangle \n",
    "&= CNOT_{5,0} \\circ CNOT_{4,2}|010111\\rangle \n",
    "=  CNOT_{5,0}|011111\\rangle \n",
    "= |111111\\rangle \\\\ \n",
    "\\end{align}"
   ]
  },
  {
   "cell_type": "markdown",
   "metadata": {},
   "source": [
    "# $U_{B}$ : s = 001"
   ]
  },
  {
   "cell_type": "markdown",
   "metadata": {},
   "source": [
    "Let's define the $f$ for this string as follows:\n",
    "\\begin{align}\n",
    "000 & \\mapsto 000 \\\\\n",
    "001 & \\mapsto 000 \\\\\n",
    "010 & \\mapsto 010 \\\\\n",
    "011 & \\mapsto 010 \\\\\n",
    "100 & \\mapsto 100 \\\\\n",
    "101 & \\mapsto 100 \\\\\n",
    "110 & \\mapsto 110 \\\\\n",
    "111 & \\mapsto 110 \\\\\n",
    "\\end{align}"
   ]
  },
  {
   "cell_type": "markdown",
   "metadata": {},
   "source": [
    "Like in $U_A$, we define the oracle:\n",
    "\n",
    "The oracle is defined by \n",
    "\\begin{align}\n",
    "|000000\\rangle & \\mapsto |000000\\rangle \\\\\n",
    "|000001\\rangle & \\mapsto |000001\\rangle \\\\\n",
    "|000010\\rangle & \\mapsto |010010\\rangle \\\\\n",
    "|000011\\rangle & \\mapsto |010011\\rangle \\\\\n",
    "|000100\\rangle & \\mapsto |100100\\rangle \\\\\n",
    "|000101\\rangle & \\mapsto |100101\\rangle \\\\\n",
    "|000110\\rangle & \\mapsto |110110\\rangle \\\\\n",
    "|000111\\rangle & \\mapsto |110111\\rangle \\\\\n",
    "\\end{align}\n",
    "\n",
    "Next we define a circuit that implements this behavior."
   ]
  },
  {
   "cell_type": "code",
   "execution_count": 157,
   "metadata": {},
   "outputs": [
    {
     "data": {
      "text/html": [
       "<pre style=\"word-wrap: normal;white-space: pre;background: #fff0;line-height: 1.1;font-family: &quot;Courier New&quot;,Courier,monospace\">        ┌───┐     \n",
       "q_0: |0>┤ X ├─────\n",
       "        └─┬─┘┌───┐\n",
       "q_1: |0>──┼──┤ X ├\n",
       "          │  └─┬─┘\n",
       "q_2: |0>──┼────┼──\n",
       "          │    │  \n",
       "q_3: |0>──■────┼──\n",
       "               │  \n",
       "q_4: |0>───────■──\n",
       "                  \n",
       "q_5: |0>──────────\n",
       "                  </pre>"
      ],
      "text/plain": [
       "<qiskit.visualization.text.TextDrawing at 0x7f37cd5eee10>"
      ]
     },
     "execution_count": 157,
     "metadata": {},
     "output_type": "execute_result"
    }
   ],
   "source": [
    "u_b_inner = QuantumCircuit(6, name='u_b')\n",
    "u_b_inner.cnot(3,0)\n",
    "u_b_inner.cnot(4,1)\n",
    "u_b = u_b_inner.to_instruction()\n",
    "u_b_inner.draw('mpl')"
   ]
  },
  {
   "cell_type": "markdown",
   "metadata": {},
   "source": [
    "Verification:\n",
    "\n",
    "\\begin{align}\n",
    "CNOT_{4,1} \\circ CNOT_{3,0}|000000\\rangle \n",
    "&= CNOT_{4,1}|000000\\rangle \n",
    "= |000000\\rangle \\\\\n",
    "CNOT_{4,1} \\circ CNOT_{3,0}|000001\\rangle \n",
    "&= CNOT_{4,1}|000001\\rangle \n",
    "= |000001\\rangle \\\\\n",
    "CNOT_{4,1} \\circ CNOT_{3,0}|000010\\rangle \n",
    "&= CNOT_{4,1}|000010\\rangle \n",
    "= |010010\\rangle \\\\\n",
    "CNOT_{4,1} \\circ CNOT_{3,0}|000011\\rangle \n",
    "&= CNOT_{4,1}|000011\\rangle \n",
    "= |010011\\rangle \\\\\n",
    "CNOT_{4,1} \\circ CNOT_{3,0}|000100\\rangle \n",
    "&= CNOT_{4,1}|100100\\rangle \n",
    "= |100100\\rangle \\\\\n",
    "CNOT_{4,1} \\circ CNOT_{3,0}|000101\\rangle \n",
    "&= CNOT_{4,1}|100101\\rangle \n",
    "= |100101\\rangle \\\\\n",
    "CNOT_{4,1} \\circ CNOT_{3,0}|000110\\rangle \n",
    "&= CNOT_{4,1}|100110\\rangle \n",
    "= |110110\\rangle \\\\\n",
    "CNOT_{4,1} \\circ CNOT_{3,0}|000111\\rangle \n",
    "&= CNOT_{4,1}|100111\\rangle \n",
    "= |110111\\rangle \\\\\n",
    "\\end{align}"
   ]
  },
  {
   "cell_type": "markdown",
   "metadata": {},
   "source": [
    "# The Algorithm for Simon's Problem:"
   ]
  },
  {
   "cell_type": "code",
   "execution_count": 158,
   "metadata": {
    "scrolled": true
   },
   "outputs": [],
   "source": [
    "def make_simon_circuit(oracle):\n",
    "    c = QuantumCircuit(6,6)\n",
    "    c.h(3);\n",
    "    c.h(4);\n",
    "    c.h(5);\n",
    "    c.barrier();\n",
    "    c.append(oracle,[0,1,2,3,4,5]); # add the oracle! \n",
    "    c.barrier(); \n",
    "    c.measure([0,1,2],[0,1,2]); # measure the f(x)\n",
    "    c.barrier(); \n",
    "    c.h(3);\n",
    "    c.h(4);\n",
    "    c.h(5);\n",
    "    c.barrier(); \n",
    "    c.measure([3,4,5],[3,4,5]); # measure to get |y> \n",
    "    return c"
   ]
  },
  {
   "cell_type": "markdown",
   "metadata": {},
   "source": [
    "# Helper Functions"
   ]
  },
  {
   "cell_type": "code",
   "execution_count": 159,
   "metadata": {},
   "outputs": [],
   "source": [
    "# filter :: [X -> Boolean] [Seq X] -> [List X]\n",
    "# return a list of things from the given sequence that pass the given predicate\n",
    "def filter(f,ls):\n",
    "    ans = []\n",
    "    for x in ls:\n",
    "        if f(x):\n",
    "            ans.append(x)\n",
    "    return ans\n",
    "\n",
    "# convert_result :: [Qiskit Result] -> [List List Number]]\n",
    "def convert_result(result):\n",
    "    ## gather the unique |y> values\n",
    "    ys = set()\n",
    "    for key in result.keys():\n",
    "        y_part = key[0:3]  # |y> is the \"inputs\" so bits 3-5 \n",
    "        ys.add(y_part)\n",
    "    return [[int(char) for char in y] for y in ys] # convert the strings to numbers\n",
    "\n",
    "# gen_options :: Void -> [List [List Number]]\n",
    "# generate all possbile 3-bit strings\n",
    "# i.e., returns [[0,0,0], [0,0,1], ..., [1,1,0], [1,1,1]]\n",
    "def gen_options():\n",
    "    s_options = []\n",
    "    for i in range(2):\n",
    "        for j in range(2):\n",
    "            for k in range(2):\n",
    "                s_options.append([i,j,k])\n",
    "    return s_options\n",
    "\n",
    "# show_secret :: [List [List [Either Number None]]] -> Void\n",
    "# prints the numbers as a single string to the console \n",
    "# skips over None values; turns numbers into strings then concatentates them\n",
    "def show_secret(S):\n",
    "    secret = \"\"\n",
    "    for si in S:\n",
    "        [a,b,c] = si\n",
    "        if (a or b or c):\n",
    "            secret += str(int(a)) + str(int(b)) + str(int(c))\n",
    "    print(\"The secret string is: \", \"000\" if not secret else secret)"
   ]
  },
  {
   "cell_type": "code",
   "execution_count": 169,
   "metadata": {},
   "outputs": [],
   "source": [
    "# calc_secret takes as input the dictionary of counts prodcued\n",
    "# by the qiskit get_counts() function\n",
    "def calc_secret(result):\n",
    "    \n",
    "    ys = convert_result(result)\n",
    "    s_options = gen_options()\n",
    "    \n",
    "    # try_on_ys :: [List [List Number]] -> [List Boolean]\n",
    "    # tests each option given to see if it is a solution for each vector in ys\n",
    "    def try_on_ys(option):\n",
    "        [a,b,c] = option\n",
    "        return [not ((c&y2) ^ (b&y1) ^ (a&y0)) for [y2,y1,y0] in ys]\n",
    "    \n",
    "    S = filter(lambda x: all(try_on_ys(x)), s_options)\n",
    "               \n",
    "    show_secret(S)"
   ]
  },
  {
   "cell_type": "code",
   "execution_count": 171,
   "metadata": {},
   "outputs": [],
   "source": [
    "# find_secret takes as inputs: an oracle circuit, with an optional boolean input\n",
    "# the boolean determines if we will draw the entire circuit being used\n",
    "def find_secret(oracle, show=False):\n",
    "    \n",
    "    # Feed an oracle to our helper function\n",
    "    c = make_simon_circuit(oracle)\n",
    "    if show:\n",
    "        print(c.draw('mpl'))\n",
    "\n",
    "    shots = 10\n",
    "        \n",
    "    # Run the algorithm some amount of times (shots)\n",
    "    job = execute(c, backend=backend, shots=shots)\n",
    "    result = job.result().get_counts()\n",
    "\n",
    "    # Show me the generator for the hidden subgroup, please\n",
    "    calc_secret(result)"
   ]
  },
  {
   "cell_type": "code",
   "execution_count": 172,
   "metadata": {
    "scrolled": false
   },
   "outputs": [
    {
     "name": "stdout",
     "output_type": "stream",
     "text": [
      "The secret string is:  001\n"
     ]
    }
   ],
   "source": [
    "find_secret(u_b) # should be 001"
   ]
  },
  {
   "cell_type": "code",
   "execution_count": 173,
   "metadata": {},
   "outputs": [
    {
     "name": "stdout",
     "output_type": "stream",
     "text": [
      "The secret string is:  000\n"
     ]
    }
   ],
   "source": [
    "find_secret(u_a) # should be 000"
   ]
  },
  {
   "cell_type": "markdown",
   "metadata": {},
   "source": [
    "# $U_{C}$ : s = 100"
   ]
  },
  {
   "cell_type": "markdown",
   "metadata": {},
   "source": [
    "Let's define the $f$ for this string as follows:\n",
    "\\begin{align}\n",
    "000 & \\mapsto 000 \\\\\n",
    "001 & \\mapsto 001 \\\\\n",
    "010 & \\mapsto 010 \\\\\n",
    "011 & \\mapsto 111 \\\\\n",
    "100 & \\mapsto 000 \\\\\n",
    "101 & \\mapsto 001 \\\\\n",
    "110 & \\mapsto 010 \\\\\n",
    "111 & \\mapsto 111 \\\\\n",
    "\\end{align}"
   ]
  },
  {
   "cell_type": "markdown",
   "metadata": {},
   "source": [
    "The oracle is defined by \n",
    "\\begin{align}\n",
    "|000000\\rangle & \\mapsto |000000\\rangle \\\\\n",
    "|000001\\rangle & \\mapsto |001001\\rangle \\\\\n",
    "|000010\\rangle & \\mapsto |010010\\rangle \\\\\n",
    "|000011\\rangle & \\mapsto |111011\\rangle \\\\\n",
    "|000100\\rangle & \\mapsto |000100\\rangle \\\\\n",
    "|000101\\rangle & \\mapsto |001101\\rangle \\\\\n",
    "|000110\\rangle & \\mapsto |010110\\rangle \\\\\n",
    "|000111\\rangle & \\mapsto |111111\\rangle \\\\\n",
    "\\end{align}\n",
    "\n",
    "A circuit that implements this behavior:"
   ]
  },
  {
   "cell_type": "code",
   "execution_count": 174,
   "metadata": {},
   "outputs": [
    {
     "data": {
      "text/html": [
       "<pre style=\"word-wrap: normal;white-space: pre;background: #fff0;line-height: 1.1;font-family: &quot;Courier New&quot;,Courier,monospace\">                  ┌───┐\n",
       "q_0: |0>──────────┤ X ├\n",
       "             ┌───┐└─┬─┘\n",
       "q_1: |0>─────┤ X ├──┼──\n",
       "        ┌───┐└─┬─┘  │  \n",
       "q_2: |0>┤ X ├──┼────┼──\n",
       "        └─┬─┘  │    │  \n",
       "q_3: |0>──┼────┼────┼──\n",
       "          │    │    │  \n",
       "q_4: |0>──┼────■────■──\n",
       "          │         │  \n",
       "q_5: |0>──■─────────■──\n",
       "                       </pre>"
      ],
      "text/plain": [
       "<qiskit.visualization.text.TextDrawing at 0x7f37cd7cd090>"
      ]
     },
     "execution_count": 174,
     "metadata": {},
     "output_type": "execute_result"
    }
   ],
   "source": [
    "u_c_inner = QuantumCircuit(6, name='u_c')\n",
    "u_c_inner.cnot(5,2)\n",
    "u_c_inner.cnot(4,1)\n",
    "u_c_inner.toffoli(4,5,0)\n",
    "u_c = u_c_inner.to_instruction()\n",
    "u_c_inner.draw('mpl')"
   ]
  },
  {
   "cell_type": "markdown",
   "metadata": {},
   "source": [
    "Verification:\n",
    "\n",
    "\\begin{align}\n",
    "TOF_{4,5,0} \\circ CNOT_{4,1} \\circ CNOT_{5,2} |000000\\rangle \n",
    "&= TOF_{4,5,0} \\circ CNOT_{4,1} |000000\\rangle \n",
    "= TOF_{4,5,0}|000000\\rangle \n",
    "= |000000\\rangle \\\\\n",
    "TOF_{4,5,0} \\circ CNOT_{4,1} \\circ CNOT_{5,2} |000001\\rangle \n",
    "&= TOF_{4,5,0} \\circ CNOT_{4,1} |001001\\rangle \n",
    "= TOF_{4,5,0}|001001\\rangle \n",
    "= |001001\\rangle \\\\\n",
    "TOF_{4,5,0} \\circ CNOT_{4,1} \\circ CNOT_{5,2} |000010\\rangle \n",
    "&= TOF_{4,5,0} \\circ CNOT_{4,1} |000010\\rangle \n",
    "= TOF_{4,5,0}|010010\\rangle \n",
    "= |010010\\rangle \\\\\n",
    "TOF_{4,5,0} \\circ CNOT_{4,1} \\circ CNOT_{5,2} |000011\\rangle \n",
    "&= TOF_{4,5,0} \\circ CNOT_{4,1} |001011\\rangle \n",
    "= TOF_{4,5,0}|011011\\rangle \n",
    "= |111011\\rangle \\\\\n",
    "TOF_{4,5,0} \\circ CNOT_{4,1} \\circ CNOT_{5,2} |000100\\rangle \n",
    "&= TOF_{4,5,0} \\circ CNOT_{4,1} |000100\\rangle \n",
    "= TOF_{4,5,0}|000100\\rangle \n",
    "= |000100\\rangle \\\\\n",
    "TOF_{4,5,0} \\circ CNOT_{4,1} \\circ CNOT_{5,2} |000101\\rangle \n",
    "&= TOF_{4,5,0} \\circ CNOT_{4,1} |001101\\rangle \n",
    "= TOF_{4,5,0}|001101\\rangle \n",
    "= |001101\\rangle \\\\\n",
    "TOF_{4,5,0} \\circ CNOT_{4,1} \\circ CNOT_{5,2} |000110\\rangle \n",
    "&= TOF_{4,5,0} \\circ CNOT_{4,1} |000110\\rangle \n",
    "= TOF_{4,5,0}|010110\\rangle \n",
    "= |010110\\rangle \\\\\n",
    "TOF_{4,5,0} \\circ CNOT_{4,1} \\circ CNOT_{5,2} |000111\\rangle \n",
    "&= TOF_{4,5,0} \\circ CNOT_{4,1} |001111\\rangle \n",
    "= TOF_{4,5,0}|011111\\rangle \n",
    "= |111111\\rangle \n",
    "\\end{align}"
   ]
  },
  {
   "cell_type": "code",
   "execution_count": 175,
   "metadata": {
    "scrolled": true
   },
   "outputs": [
    {
     "name": "stdout",
     "output_type": "stream",
     "text": [
      "The secret string is:  100\n"
     ]
    }
   ],
   "source": [
    "find_secret(u_c) # should be 100"
   ]
  }
 ],
 "metadata": {
  "kernelspec": {
   "display_name": "Python 3",
   "language": "python",
   "name": "python3"
  },
  "language_info": {
   "codemirror_mode": {
    "name": "ipython",
    "version": 3
   },
   "file_extension": ".py",
   "mimetype": "text/x-python",
   "name": "python",
   "nbconvert_exporter": "python",
   "pygments_lexer": "ipython3",
   "version": "3.7.4"
  }
 },
 "nbformat": 4,
 "nbformat_minor": 2
}
